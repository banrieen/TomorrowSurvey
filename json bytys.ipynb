{
 "cells": [
  {
   "cell_type": "code",
   "execution_count": 6,
   "metadata": {},
   "outputs": [
    {
     "data": {
      "text/plain": [
       "True"
      ]
     },
     "execution_count": 6,
     "metadata": {},
     "output_type": "execute_result"
    }
   ],
   "source": [
    "import json\n",
    "ss = {'caseName': '发送短信验证码', 'desc': '', 'project': '南通百通', 'module': '用户中心', 'result_status': 1, 'result_info': {'module': '用户中心', 'caseName': '发送短信验证码', 'Url': 'http://ntgsc-smt.pingan.com.cn/nantongsmt/user/sendVerifyCode.do', 'code': 404, 'content': b'<!doctype html><html lang=\"en\"><head><title>HTTP Status 404 \\xe2\\x80\\x93 Not Found</title><style type=\"text/css\">h1 {font-family:Tahoma,Arial,sans-serif;color:white;background-color:#525D76;font-size:22px;} h2 {font-family:Tahoma,Arial,sans-serif;color:white;background-color:#525D76;font-size:16px;} h3 {font-family:Tahoma,Arial,sans-serif;color:white;background-color:#525D76;font-size:14px;} body {font-family:Tahoma,Arial,sans-serif;color:black;background-color:white;} b {font-family:Tahoma,Arial,sans-serif;color:white;background-color:#525D76;} p {font-family:Tahoma,Arial,sans-serif;background:white;color:black;font-size:12px;} a {color:black;} a.name {color:black;} .line {height:1px;background-color:#525D76;border:none;}</style></head><body><h1>HTTP Status 404 \\xe2\\x80\\x93 Not Found</h1><hr class=\"line\" /><p><b>Type</b> Status Report</p><p><b>Message</b> /nantongsmt/user/sendVerifyCode.do</p><p><b>Description</b> The origin server did not find a current representation for the target resource or is not willing to disclose that one exists.</p><hr class=\"line\" /><h3>Apache Tomcat/8.5.16</h3></body></html>', 'elapsed': 1.06287, 'err': None}, 'project_id': 1, 'module_id': 1, 'case_id': 1}\n",
    "bs = ss[\"result_info\"][\"content\"]\n",
    "isinstance(bs,bytes)\n",
    "# for iss in ss.keys():\n",
    "#     if isinstance(iss,bytes):\n",
    "#         print(iss)"
   ]
  }
 ],
 "metadata": {
  "kernelspec": {
   "display_name": "Python 3",
   "language": "python",
   "name": "python3"
  },
  "language_info": {
   "codemirror_mode": {
    "name": "ipython",
    "version": 3
   },
   "file_extension": ".py",
   "mimetype": "text/x-python",
   "name": "python",
   "nbconvert_exporter": "python",
   "pygments_lexer": "ipython3",
   "version": "3.6.5"
  }
 },
 "nbformat": 4,
 "nbformat_minor": 2
}
