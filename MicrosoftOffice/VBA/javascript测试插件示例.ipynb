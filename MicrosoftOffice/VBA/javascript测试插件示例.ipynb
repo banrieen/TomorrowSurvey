{
 "cells": [
  {
   "cell_type": "code",
   "execution_count": null,
   "metadata": {},
   "outputs": [],
   "source": [
    "let a = require('lodash');\n",
    "let postAuthors = {\n",
    "    'xiaoming':{id:1,name:'xiaoming', role:'teacher'},\n",
    "    'wanggang':{id:2,name:'wanggang', role:'author'},\n",
    "};\n",
    "a.toArray(postAuthors);"
   ]
  },
  {
   "cell_type": "code",
   "execution_count": null,
   "metadata": {},
   "outputs": [],
   "source": []
  }
 ],
 "metadata": {
  "kernelspec": {
   "display_name": "jp-Babel (Node.js)",
   "language": "babel",
   "name": "babel"
  }
 },
 "nbformat": 4,
 "nbformat_minor": 2
}
