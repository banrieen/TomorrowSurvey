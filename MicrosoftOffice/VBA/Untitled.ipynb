{
 "cells": [
  {
   "cell_type": "code",
   "execution_count": null,
   "metadata": {},
   "outputs": [],
   "source": [
    "let a = require('lodash');\n",
    "let postAuthors = {\n",
    "    'xiaoming':{id:1,name:'xiaoming', role:'teacher'},\n",
    "    'wanggang':{id:2,name:'wanggang', role:'author'},\n",
    "};\n",
    "a.toArray(postAuthors);"
   ]
  }
 ],
 "metadata": {
  "kernelspec": {
   "display_name": "Javascript (Node.js)",
   "language": "javascript",
   "name": "javascript"
  }
 },
 "nbformat": 4,
 "nbformat_minor": 2
}
