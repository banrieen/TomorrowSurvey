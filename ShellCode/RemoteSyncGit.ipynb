{
 "cells": [
  {
   "cell_type": "markdown",
   "metadata": {},
   "source": [
    "## 在 notebook 所在服务器上同步终端的的提交\n",
    "**默认情况下 notebook post_save_hook 会在 5 min 左右自动同步；否则可以在此远端执行 git sync **"
   ]
  },
  {
   "cell_type": "code",
   "execution_count": 5,
   "metadata": {},
   "outputs": [
    {
     "name": "stdout",
     "output_type": "stream",
     "text": [
      "On branch Algorithms\n",
      "nothing to commit, working tree clean\n",
      "* Algorithms\n",
      "From github.com:banrieen/notebook\n",
      " * branch            Algorithms -> FETCH_HEAD\n",
      "Already up to date.\n"
     ]
    }
   ],
   "source": [
    "cd /home/notebook\n",
    "git status\n",
    "git branch\n",
    "git pull origin Algorithms\n",
    "# ls -l "
   ]
  },
  {
   "cell_type": "code",
   "execution_count": null,
   "metadata": {},
   "outputs": [],
   "source": []
  }
 ],
 "metadata": {
  "kernelspec": {
   "display_name": "Bash",
   "language": "bash",
   "name": "bash"
  },
  "language_info": {
   "codemirror_mode": "shell",
   "file_extension": ".sh",
   "mimetype": "text/x-sh",
   "name": "bash"
  }
 },
 "nbformat": 4,
 "nbformat_minor": 2
}
