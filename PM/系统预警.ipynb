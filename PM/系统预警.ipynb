{
 "cells": [
  {
   "cell_type": "markdown",
   "metadata": {},
   "source": [
    "## 系统质量预警模型\n",
    "\n",
    "传统，云平台，大数据，AI，物联网\n",
    "\n",
    "三维坐标：x:时间轴(阶段)，y：数量，z：风险（类型：使用颜色标记）\n"
   ]
  }
 ],
 "metadata": {
  "kernelspec": {
   "display_name": "Javascript (Node.js)",
   "language": "javascript",
   "name": "javascript"
  },
  "language_info": {
   "file_extension": ".js",
   "mimetype": "application/javascript",
   "name": "javascript",
   "version": "10.16.3"
  }
 },
 "nbformat": 4,
 "nbformat_minor": 2
}
