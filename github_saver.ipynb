{
 "cells": [
  {
   "cell_type": "code",
   "execution_count": 4,
   "metadata": {},
   "outputs": [
    {
     "ename": "SyntaxError",
     "evalue": "'return' outside function (<ipython-input-4-61f70269834a>, line 19)",
     "output_type": "error",
     "traceback": [
      "\u001b[0;36m  File \u001b[0;32m\"<ipython-input-4-61f70269834a>\"\u001b[0;36m, line \u001b[0;32m19\u001b[0m\n\u001b[0;31m    return None\u001b[0m\n\u001b[0m    ^\u001b[0m\n\u001b[0;31mSyntaxError\u001b[0m\u001b[0;31m:\u001b[0m 'return' outside function\n"
     ]
    }
   ],
   "source": [
    "import os,sys\n",
    "import subprocess\n",
    "GITBRANCH = \"Algorithms\"\n",
    "# pathName = os.path.dirname(__file__)\n",
    "# print(f\"{pathName}\")\n",
    "# print(\"Hi, I`m ok!\")\n",
    "# print(__file__)\n",
    "# print(os.path.realpath(__file__))\n",
    "# print(os.path.dirname(os.path.realpath(__file__)))\n",
    "# print(os.getcwd())\n",
    "# BookDir = os.path.dirname(os.path.realpath(__file__))\n",
    "BookDir = \"/home/notebook\"\n",
    "outs = subprocess.Popen(f\"cd {BookDir} && git status\", stdout=subprocess.PIPE, shell=True)\n",
    "commit_des = outs.communicate()\n",
    "commit_des = commit_des[0].decode('UTF-8').split(\"\\n\")# \n",
    "if len(commit_des)>3 :\n",
    "    commit_des = commit_des[4:]\n",
    "else:\n",
    "    commit_des =  None\n",
    "# commit_des = \",\".join([des.replace(\"\\t\",\"\") for des in commit_des if des.strip()])\n",
    "# subprocess.call(f\"cd {BookDir} && git add --all\", shell=True)\n",
    "# subprocess.call(f\"cd {BookDir} && git commit -m '{commit_des}'\", shell=True)\n",
    "# # commit_des = commit_des[0].decode('UTF-8')\n",
    "# subprocess.call(f\"cd {BookDir} && git pull origin  {GITBRANCH}\", shell=True)\n",
    "# subprocess.call(f\"cd {BookDir} && git push origin {GITBRANCH}\", shell=True)\n",
    "print(f\"commit_des: {commit_des}\")"
   ]
  },
  {
   "cell_type": "code",
   "execution_count": null,
   "metadata": {},
   "outputs": [],
   "source": []
  }
 ],
 "metadata": {
  "kernelspec": {
   "display_name": "Python 3",
   "language": "python",
   "name": "python3"
  },
  "language_info": {
   "codemirror_mode": {
    "name": "ipython",
    "version": 3
   },
   "file_extension": ".py",
   "mimetype": "text/x-python",
   "name": "python",
   "nbconvert_exporter": "python",
   "pygments_lexer": "ipython3",
   "version": "3.6.5"
  }
 },
 "nbformat": 4,
 "nbformat_minor": 2
}
