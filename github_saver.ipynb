{
 "cells": [
  {
   "cell_type": "code",
   "execution_count": 3,
   "metadata": {},
   "outputs": [
    {
     "name": "stdout",
     "output_type": "stream",
     "text": [
      "commit_des: ['On branch Algorithms', 'nothing to commit, working tree clean', '']\n"
     ]
    }
   ],
   "source": [
    "import os,sys\n",
    "import subprocess\n",
    "GITBRANCH = \"Algorithms\"\n",
    "# pathName = os.path.dirname(__file__)\n",
    "# print(f\"{pathName}\")\n",
    "# print(\"Hi, I`m ok!\")\n",
    "# print(__file__)\n",
    "# print(os.path.realpath(__file__))\n",
    "# print(os.path.dirname(os.path.realpath(__file__)))\n",
    "# print(os.getcwd())\n",
    "# BookDir = os.path.dirname(os.path.realpath(__file__))\n",
    "BookDir = \"/home/notebook\"\n",
    "outs = subprocess.Popen(f\"cd {BookDir} && git status\", stdout=subprocess.PIPE, shell=True)\n",
    "commit_des = outs.communicate()\n",
    "commit_des = commit_des[0].decode('UTF-8').split(\"\\n\")# \n",
    "\n",
    "commit_des = commit_des[4:] if len(commit_des)>3 else None\n",
    "# commit_des = \",\".join([des.replace(\"\\t\",\"\") for des in commit_des if des.strip()])\n",
    "# subprocess.call(f\"cd {BookDir} && git add --all\", shell=True)\n",
    "# subprocess.call(f\"cd {BookDir} && git commit -m '{commit_des}'\", shell=True)\n",
    "# # commit_des = commit_des[0].decode('UTF-8')\n",
    "# subprocess.call(f\"cd {BookDir} && git pull origin  {GITBRANCH}\", shell=True)\n",
    "# subprocess.call(f\"cd {BookDir} && git push origin {GITBRANCH}\", shell=True)\n",
    "print(f\"commit_des: {commit_des}\")"
   ]
  },
  {
   "cell_type": "code",
   "execution_count": null,
   "metadata": {},
   "outputs": [],
   "source": []
  }
 ],
 "metadata": {
  "kernelspec": {
   "display_name": "Python 3",
   "language": "python",
   "name": "python3"
  },
  "language_info": {
   "codemirror_mode": {
    "name": "ipython",
    "version": 3
   },
   "file_extension": ".py",
   "mimetype": "text/x-python",
   "name": "python",
   "nbconvert_exporter": "python",
   "pygments_lexer": "ipython3",
   "version": "3.6.5"
  }
 },
 "nbformat": 4,
 "nbformat_minor": 2
}
