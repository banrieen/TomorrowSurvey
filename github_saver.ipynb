{
 "cells": [
  {
   "cell_type": "code",
   "execution_count": 1,
   "metadata": {},
   "outputs": [
    {
     "ename": "NameError",
     "evalue": "name '__file__' is not defined",
     "output_type": "error",
     "traceback": [
      "\u001b[0;31m---------------------------------------------------------------------------\u001b[0m",
      "\u001b[0;31mNameError\u001b[0m                                 Traceback (most recent call last)",
      "\u001b[0;32m<ipython-input-1-8c5a8517c74d>\u001b[0m in \u001b[0;36m<module>\u001b[0;34m\u001b[0m\n\u001b[1;32m      2\u001b[0m \u001b[0;32mimport\u001b[0m \u001b[0msubprocess\u001b[0m\u001b[0;34m\u001b[0m\u001b[0m\n\u001b[1;32m      3\u001b[0m \u001b[0mGITBRANCH\u001b[0m \u001b[0;34m=\u001b[0m \u001b[0;34m\"Algorithms\"\u001b[0m\u001b[0;34m\u001b[0m\u001b[0m\n\u001b[0;32m----> 4\u001b[0;31m \u001b[0mpathName\u001b[0m \u001b[0;34m=\u001b[0m \u001b[0mos\u001b[0m\u001b[0;34m.\u001b[0m\u001b[0mpath\u001b[0m\u001b[0;34m.\u001b[0m\u001b[0mdirname\u001b[0m\u001b[0;34m(\u001b[0m\u001b[0m__file__\u001b[0m\u001b[0;34m)\u001b[0m\u001b[0;34m\u001b[0m\u001b[0m\n\u001b[0m\u001b[1;32m      5\u001b[0m \u001b[0mprint\u001b[0m\u001b[0;34m(\u001b[0m\u001b[0;34mf\"{pathName}\"\u001b[0m\u001b[0;34m)\u001b[0m\u001b[0;34m\u001b[0m\u001b[0m\n\u001b[1;32m      6\u001b[0m \u001b[0mprint\u001b[0m\u001b[0;34m(\u001b[0m\u001b[0;34m\"Hi, I`m ok!\"\u001b[0m\u001b[0;34m)\u001b[0m\u001b[0;34m\u001b[0m\u001b[0m\n",
      "\u001b[0;31mNameError\u001b[0m: name '__file__' is not defined"
     ]
    }
   ],
   "source": [
    "import os,sys\n",
    "import subprocess\n",
    "GITBRANCH = \"Algorithms\"\n",
    "# pathName = os.path.dirname(__file__)\n",
    "# print(f\"{pathName}\")\n",
    "# print(\"Hi, I`m ok!\")\n",
    "# print(__file__)\n",
    "# print(os.path.realpath(__file__))\n",
    "# print(os.path.dirname(os.path.realpath(__file__)))\n",
    "# print(os.getcwd())\n",
    "# BookDir = os.path.dirname(os.path.realpath(__file__))\n",
    "BookDir = \"/home/notebook\"\n",
    "outs = subprocess.Popen(f\"cd {BookDir} && git status\", stdout=subprocess.PIPE, shell=True)\n",
    "commit_des = outs.communicate()\n",
    "commit_des = commit_des[0].decode('UTF-8').split(\"\\n\")[4:]\n",
    "commit_des = \",\".join([des.replace(\"\\t\",\"\") for des in commit_des if des.strip()])\n",
    "# subprocess.call(f\"cd {BookDir} && git add --all\", shell=True)\n",
    "# subprocess.call(f\"cd {BookDir} && git commit -m '{commit_des}'\", shell=True)\n",
    "# # commit_des = commit_des[0].decode('UTF-8')\n",
    "# subprocess.call(f\"cd {BookDir} && git pull origin  {GITBRANCH}\", shell=True)\n",
    "# subprocess.call(f\"cd {BookDir} && git push origin {GITBRANCH}\", shell=True)\n",
    "print(f\"commit_des: {commit_des}\")"
   ]
  },
  {
   "cell_type": "code",
   "execution_count": null,
   "metadata": {},
   "outputs": [],
   "source": []
  }
 ],
 "metadata": {
  "kernelspec": {
   "display_name": "Python 3",
   "language": "python",
   "name": "python3"
  },
  "language_info": {
   "codemirror_mode": {
    "name": "ipython",
    "version": 3
   },
   "file_extension": ".py",
   "mimetype": "text/x-python",
   "name": "python",
   "nbconvert_exporter": "python",
   "pygments_lexer": "ipython3",
   "version": "3.6.5"
  }
 },
 "nbformat": 4,
 "nbformat_minor": 2
}
