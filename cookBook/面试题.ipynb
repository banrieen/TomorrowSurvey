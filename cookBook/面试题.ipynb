{
 "cells": [
  {
   "cell_type": "code",
   "execution_count": 34,
   "metadata": {},
   "outputs": [
    {
     "name": "stdout",
     "output_type": "stream",
     "text": [
      "I like football\n"
     ]
    }
   ],
   "source": [
    "# 给定字符串，删除开始和结尾处的空格，并将中间的多个连续的空格合并成一个。\n",
    "# 比如 “   I like     football    ” 会变成 \"I like football\"\n",
    "\n",
    "class StripStr():\n",
    "    def __init__(self):\n",
    "        pass\n",
    "    \n",
    "    def get_real_str(self, strs=None):\n",
    "        strs =\"   I like     football    \"  # 会变成 \"I like football\"\n",
    "        strs_list = strs.split(\" \")\n",
    "        strs_list = [iStr for iStr in strs_list if len(iStr.strip())]\n",
    "        new_strs = \" \".join(strs_list).strip()\n",
    "        print(new_strs)\n",
    "        \n",
    "if __name__ == \"__main__\":\n",
    "    ns = StripStr()\n",
    "    ns.get_real_str()\n",
    "    "
   ]
  },
  {
   "cell_type": "code",
   "execution_count": 44,
   "metadata": {},
   "outputs": [
    {
     "name": "stdout",
     "output_type": "stream",
     "text": [
      "[{'name': '赵六', 'count': 1}, {'name': '王五', 'count': 1}, {'name': '田七', 'count': 1}, {'name': '李四', 'count': 2}, {'name': '张三', 'count': 3}]\n"
     ]
    }
   ],
   "source": [
    "# 从类似如下的文本文件中读取出所有的姓名，并打印出重复的姓名和重复的次数，并按重复次数排序：\n",
    "# 1,张三,28\n",
    "# 2,李四,35\n",
    "# 3,张三,28\n",
    "# 4,王五,35\n",
    "# 5,张三,28\n",
    "# 6,李四,35\n",
    "# 7,赵六,28\n",
    "# 8,田七,35\n",
    "\n",
    "class GetRepeatStr():\n",
    "    def __init__(self):\n",
    "        self.strs = \"\"\"1,张三,28\n",
    "                        2,李四,35\n",
    "                        3,张三,28\n",
    "                        4,王五,35\n",
    "                        5,张三,28\n",
    "                        6,李四,35\n",
    "                        7,赵六,28\n",
    "                        8,田七,35\"\"\"\n",
    "\n",
    "    \n",
    "    def count_repeat_num(self, strs=None):\n",
    "        strs_lines = self.strs.split('\\n')\n",
    "        strs_lines = [iStr.split(\",\")[1] for iStr in strs_lines]\n",
    "        strs_count = []\n",
    "        real_strs = set(strs_lines)\n",
    "        for iStr in real_strs:\n",
    "            count = 0\n",
    "            for temp_str in strs_lines:\n",
    "                if iStr in temp_str:\n",
    "                    count += 1\n",
    "            strs_count.append({\"name\":iStr,\"count\":count})\n",
    "#         print(strs_count)\n",
    "        return strs_count\n",
    "    \n",
    "    def sort_strs_count(self, strs_count=None):\n",
    "        strs_count = sorted(strs_count, key=lambda strs:strs[\"count\"] )\n",
    "#         print(strs_count)\n",
    "        return strs_count\n",
    "        \n",
    "    def print_sorted_repeat_strs(self, strs=None):\n",
    "        strs_count = self.count_repeat_num()\n",
    "        sorted_strs = self.sort_strs_count(strs_count)\n",
    "        print(sorted_strs)\n",
    "\n",
    "if __name__ == \"__main__\":\n",
    "    strs = GetRepeatStr()\n",
    "    strs.print_sorted_repeat_strs()"
   ]
  },
  {
   "cell_type": "code",
   "execution_count": 35,
   "metadata": {},
   "outputs": [
    {
     "data": {
      "text/plain": [
       "['', '', '', 'I', 'like', '', '', '', '', 'football', '', '', '', '']"
      ]
     },
     "execution_count": 35,
     "metadata": {},
     "output_type": "execute_result"
    }
   ],
   "source": [
    "\"   I like     football    \".split(\" \")"
   ]
  },
  {
   "cell_type": "code",
   "execution_count": 1,
   "metadata": {},
   "outputs": [
    {
     "ename": "NameError",
     "evalue": "name 'reduce' is not defined",
     "output_type": "error",
     "traceback": [
      "\u001b[0;31m---------------------------------------------------------------------------\u001b[0m",
      "\u001b[0;31mNameError\u001b[0m                                 Traceback (most recent call last)",
      "\u001b[0;32m<ipython-input-1-557417907a89>\u001b[0m in \u001b[0;36m<module>\u001b[0;34m\u001b[0m\n\u001b[0;32m----> 1\u001b[0;31m \u001b[0mreduce\u001b[0m\u001b[0;34m(\u001b[0m\u001b[0;32mlambda\u001b[0m \u001b[0ma\u001b[0m\u001b[0;34m,\u001b[0m\u001b[0mb\u001b[0m\u001b[0;34m:\u001b[0m\u001b[0mb\u001b[0m\u001b[0;34m-\u001b[0m\u001b[0ma\u001b[0m\u001b[0;34m,\u001b[0m \u001b[0;34m[\u001b[0m\u001b[0;36m2\u001b[0m\u001b[0;34m,\u001b[0m\u001b[0;36m4\u001b[0m\u001b[0;34m,\u001b[0m\u001b[0;36m7\u001b[0m\u001b[0;34m,\u001b[0m\u001b[0;36m8\u001b[0m\u001b[0;34m]\u001b[0m\u001b[0;34m,\u001b[0m\u001b[0;36m1\u001b[0m\u001b[0;34m)\u001b[0m\u001b[0;34m\u001b[0m\u001b[0;34m\u001b[0m\u001b[0m\n\u001b[0m",
      "\u001b[0;31mNameError\u001b[0m: name 'reduce' is not defined"
     ]
    }
   ],
   "source": [
    "# usr/bin/env python2.7\n",
    "reduce(lambda a,b:b-a, [2,4,7,8],1)"
   ]
  },
  {
   "cell_type": "code",
   "execution_count": null,
   "metadata": {},
   "outputs": [],
   "source": [
    "# usr/bin/env python2.7\n",
    "def task():\n",
    "    begin = yield\n",
    "    end = yield\n",
    "    yield\n",
    "    for x in range(begin,end):\n",
    "        yield x\n",
    "\n",
    "t = task()\n",
    "t.send(None)\n",
    "t.send(3)\n",
    "t.send(6)\n",
    "print(t.next())\n",
    "print([x for x in t])"
   ]
  },
  {
   "cell_type": "code",
   "execution_count": 10,
   "metadata": {},
   "outputs": [
    {
     "data": {
      "text/plain": [
       "9"
      ]
     },
     "execution_count": 10,
     "metadata": {},
     "output_type": "execute_result"
    }
   ],
   "source": [
    "# usr/bin/env python2.7\n",
    "def bar(multiple):\n",
    "    def foo(n):\n",
    "        return multiple**n\n",
    "    return foo\n",
    "\n",
    "bar(2)(3)\n"
   ]
  },
  {
   "cell_type": "code",
   "execution_count": 12,
   "metadata": {},
   "outputs": [
    {
     "name": "stdout",
     "output_type": "stream",
     "text": [
      "[1, 2, 3, 300, ['a', 'b', 'c'], 5] [1, 2, 3, 300, ['a', 'b', 'c'], 5] [1, 2, 3, (100, 200), ['a', 'b', 'c']] [1, 2, 3, (100, 200), ['a', 'b']]\n"
     ]
    }
   ],
   "source": [
    "# usr/bin/env python2.7\n",
    "import copy\n",
    "a = [1,2,3,(100,200),['a','b']]\n",
    "b = a \n",
    "c = copy.copy(a)\n",
    "d = copy.deepcopy(a)\n",
    "a[3] = 300\n",
    "a.append(5)\n",
    "a[4].append('c')\n",
    "print(a,b,c,d)"
   ]
  },
  {
   "cell_type": "code",
   "execution_count": 13,
   "metadata": {},
   "outputs": [
    {
     "name": "stdout",
     "output_type": "stream",
     "text": [
      "go A go\n",
      "go B go\n",
      "stop B stop\n"
     ]
    }
   ],
   "source": [
    "class A(object):\n",
    "    def go(self):\n",
    "        print(\"go A go\")\n",
    "    def stop(self):\n",
    "        print(\"stop A stop\")\n",
    "    def start(self):\n",
    "        raise(Exception('Not implemented'))\n",
    "       \n",
    "class B(A):\n",
    "    def go(self):\n",
    "        super(B,self).go() # 用来调用父类方法\n",
    "        # Python3.x 和 Python2.x 的一个区别是: Python 3 可以使用直接使用 super().xxx 代替 super(Class, self).xxx :\n",
    "        print(\"go B go\")\n",
    "        \n",
    "    def stop(self):\n",
    "        print(\"stop B stop\")\n",
    "    def start(self):\n",
    "        print(\"start B start\")\n",
    "b = B()\n",
    "b.go()\n",
    "b.stop()\n",
    "b.start()"
   ]
  },
  {
   "cell_type": "code",
   "execution_count": null,
   "metadata": {},
   "outputs": [],
   "source": []
  }
 ],
 "metadata": {
  "kernelspec": {
   "display_name": "Python 3",
   "language": "python",
   "name": "python3"
  },
  "language_info": {
   "codemirror_mode": {
    "name": "ipython",
    "version": 3
   },
   "file_extension": ".py",
   "mimetype": "text/x-python",
   "name": "python",
   "nbconvert_exporter": "python",
   "pygments_lexer": "ipython3",
   "version": "3.6.7"
  }
 },
 "nbformat": 4,
 "nbformat_minor": 2
}
