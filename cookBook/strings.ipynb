{
 "cells": [
  {
   "cell_type": "code",
   "execution_count": 5,
   "metadata": {},
   "outputs": [
    {
     "data": {
      "text/plain": [
       "[\"Invalid URL 'http:/smt-app-stg.pingan.com.cn/nantongsmt/indemnificationHousr/getList.do'\",\n",
       " 'No schema supplied. Perhaps you meant http://http:/smt-app-stg.pingan.com.cn/nantongsmt/indemnificationHousr/getList.do?']"
      ]
     },
     "execution_count": 5,
     "metadata": {},
     "output_type": "execute_result"
    }
   ],
   "source": [
    "\n",
    "import re\n",
    "err = \"Invalid URL 'http:/smt-app-stg.pingan.com.cn/nantongsmt/indemnificationHousr/getList.do': No schema supplied. Perhaps you meant http://http:/smt-app-stg.pingan.com.cn/nantongsmt/indemnificationHousr/getList.do?\"\n",
    "errType, errInfo = err.split(\": \")\n",
    "errType = errType.split('')\n",
    "# errType = re.compile(('\\S+[\" \"])[\" \"]')"
   ]
  },
  {
   "cell_type": "code",
   "execution_count": 5,
   "metadata": {},
   "outputs": [
    {
     "data": {
      "text/plain": [
       "'Invalid URL'"
      ]
     },
     "execution_count": 5,
     "metadata": {},
     "output_type": "execute_result"
    }
   ],
   "source": [
    "ss = \"Invalid URL 'http:/smt-app-stg.pingan.com.cn/nantongsmt/indemnificationHousr/getList.do'\"\n",
    "\" \".join( ss.split(\" \")[:-1])"
   ]
  }
 ],
 "metadata": {
  "kernelspec": {
   "display_name": "Python 3",
   "language": "python",
   "name": "python3"
  },
  "language_info": {
   "codemirror_mode": {
    "name": "ipython",
    "version": 3
   },
   "file_extension": ".py",
   "mimetype": "text/x-python",
   "name": "python",
   "nbconvert_exporter": "python",
   "pygments_lexer": "ipython3",
   "version": "3.6.4"
  }
 },
 "nbformat": 4,
 "nbformat_minor": 2
}
