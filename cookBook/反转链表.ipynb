{
 "cells": [
  {
   "cell_type": "code",
   "execution_count": null,
   "metadata": {},
   "outputs": [],
   "source": [
    "# 初始化链表\n",
    "class Node:\n",
    "    def __init__(self,value):\n",
    "        self.value = value\n",
    "        self.next = None\n",
    "\n",
    "class LinkList(object):\n",
    "    def __init__(self):\n",
    "        self.head = Node(\"head\")\n",
    "        \n",
    "    def append_list(self,head,value):\n",
    "        newNode = Node(value)\n",
    "        head.next = newNode\n",
    "        \n",
    "    def display_list(self):\n",
    "        tempHead = self.head\n",
    "        while tempHead.next != None:\n",
    "            print(tempHead.value,end=\" \")\n",
    "            tempHead = tempHead.next\n",
    "            \n",
    "    def init_list_by_arry(self,arry=[]):\n",
    "        head = self.head\n",
    "        if arry:\n",
    "            for item in arry:\n",
    "                self.append_list(head,item)\n",
    "                head = head.next\n",
    "        else:\n",
    "            raise IOError(\"Arry is null ! \")\n",
    "    \n",
    "class RecurseList:\n",
    "    def non_recurse(head):\n",
    "        if head is None or head.next is None:\n",
    "            return head\n",
    "        pre = None\n",
    "        cur = head\n",
    "        \n",
    "if __name__ == \"__main__\":\n",
    "    ll = LinkList()\n",
    "    ll.init_list_by_arry([1,2,3,4,5,6,7,8,9])\n",
    "    ll.display_list()"
   ]
  }
 ],
 "metadata": {
  "kernelspec": {
   "display_name": "Python 3",
   "language": "python",
   "name": "python3"
  },
  "language_info": {
   "codemirror_mode": {
    "name": "ipython",
    "version": 3
   },
   "file_extension": ".py",
   "mimetype": "text/x-python",
   "name": "python",
   "nbconvert_exporter": "python",
   "pygments_lexer": "ipython3",
   "version": "3.6.7"
  }
 },
 "nbformat": 4,
 "nbformat_minor": 2
}
