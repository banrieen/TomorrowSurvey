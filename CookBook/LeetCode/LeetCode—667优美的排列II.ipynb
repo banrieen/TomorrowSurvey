{
 "cells": [
  {
   "cell_type": "markdown",
   "metadata": {},
   "source": [
    "## 667. 优美的排列 II\n",
    "*中文版的翻译要仔细看，不小心会引导歧路上*\n",
    "\n",
    "给定两个整数 n 和 k，你需要实现一个数组，这个数组包含从 1 到 n 的 n 个不同整数，同时满足以下条件：\n",
    "\n",
    "① 如果这个数组是 [a1, a2, a3, ... , an] ，那么数组 [|a1 - a2|, |a2 - a3|, |a3 - a4|, ... , |an-1 - an|] 中应该有且仅有 k 个不同整数；. \n",
    "\n",
    "*此处意思为列表中的元素，有 k 中不同差值，不是等差数列*\n",
    "\n",
    "② 如果存在多种答案，你只需实现并返回其中任意一种.\n",
    "\n",
    "* 示例 1:\n",
    "\n",
    "输入: n = 3, k = 1\n",
    "输出: [1, 2, 3]\n",
    "解释: [1, 2, 3] 包含 3 个范围在 1-3 的不同整数， 并且 [1, 1] 中有且仅有 1 个不同整数 : 1\n",
    "\n",
    " \n",
    "\n",
    "* 示例 2:\n",
    "\n",
    "输入: n = 3, k = 2\n",
    "输出: [1, 3, 2]\n",
    "解释: [1, 3, 2] 包含 3 个范围在 1-3 的不同整数， 并且 [2, 1] 中有且仅有 2 个不同整数: 1 和 2\n",
    "\n",
    "*3-1=2 差值为2， 3-2=1，差值为1， 就是2中差值*\n",
    "\n",
    "* 提示:\n",
    "\n",
    "     n 和 k 满足条件 1 <= k < n <= 104.\n",
    "\n",
    "\n",
    "链接：https://leetcode-cn.com/problems/beautiful-arrangement-ii\n"
   ]
  },
  {
   "cell_type": "markdown",
   "metadata": {},
   "source": [
    "## 题解：\n",
    "1. 初始化为 1 到 n 的 list，此时所有的差值为1，也只有 1 种差值\n",
    "* 归纳枚举方法，通过找规律列决出某一种符合条件的列表，如 l[k:] 的元素逆序后插入到 l[:k]的每个元素后；\n",
    "* 翻转元素方法：从第二位到末位开始不停翻转，翻转一次增加一种差值"
   ]
  },
  {
   "cell_type": "code",
   "execution_count": null,
   "metadata": {},
   "outputs": [],
   "source": [
    "\"\"\"列表翻转——切片: 既每次讲rst[i:]的元素逆序一次\n",
    "In [8]: r=[1,2,3,4,5,6,7,8]\n",
    "In [19]: r[2:]\n",
    "Out[19]: [3, 4, 5, 6, 7, 8]\n",
    "In [18]: r[:1:-1]\n",
    "Out[18]: [8, 7, 6, 5, 4, 3]\n",
    "In [20]: r[2:] = r[:1:-1]\n",
    "\n",
    "In [21]: r\n",
    "Out[21]: [1, 2, 8, 7, 6, 5, 4, 3]\n",
    "\"\"\"\n",
    "class Solution:\n",
    "    def constructArray(self, n: int, k: int) -> List[int]:\n",
    "        rst = list(range(1,n+1))\n",
    "        for i in range(1,k):\n",
    "            rst[i:] = rst[:i-1:-1] # 翻转，既每次讲rst[i:]的元素逆序一次，\n",
    "            \n",
    "        return rst"
   ]
  }
 ],
 "metadata": {
  "kernelspec": {
   "display_name": "Python 3",
   "language": "python",
   "name": "python3"
  },
  "language_info": {
   "codemirror_mode": {
    "name": "ipython",
    "version": 3
   },
   "file_extension": ".py",
   "mimetype": "text/x-python",
   "name": "python",
   "nbconvert_exporter": "python",
   "pygments_lexer": "ipython3",
   "version": "3.6.8"
  }
 },
 "nbformat": 4,
 "nbformat_minor": 2
}
