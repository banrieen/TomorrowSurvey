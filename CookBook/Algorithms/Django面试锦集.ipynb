{
 "cells": [
  {
   "cell_type": "markdown",
   "metadata": {},
   "source": [
    "nginx 负载均衡类型，轮询； 高可用\n",
    "\n",
    "Django 中间件，\n",
    "Django ORM 搜索\n",
    "Django 跨站点攻击预防原理\n",
    "\n",
    "redis 崩溃，缓存，协程；非字符串怎么存储\n",
    "进程管理，mysql 分表，分库；\n",
    "Vue"
   ]
  }
 ],
 "metadata": {
  "kernelspec": {
   "display_name": "Python 3",
   "language": "python",
   "name": "python3"
  },
  "language_info": {
   "codemirror_mode": {
    "name": "ipython",
    "version": 3
   },
   "file_extension": ".py",
   "mimetype": "text/x-python",
   "name": "python",
   "nbconvert_exporter": "python",
   "pygments_lexer": "ipython3",
   "version": "3.6.8"
  }
 },
 "nbformat": 4,
 "nbformat_minor": 2
}
