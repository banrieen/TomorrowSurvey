{
 "cells": [
  {
   "cell_type": "code",
   "execution_count": null,
   "metadata": {},
   "outputs": [],
   "source": [
    "\"\"\" 变量作用域\n",
    "全局变量 global\n",
    "本地变量\n",
    "非全句变量 nonlocal\n",
    "\"\"\"\n",
    "\n",
    "# 基本的全局变量和本地变量\n",
    "varX = \"abc\"\n",
    "varY = \"123\"\n",
    "def func(): \n",
    "    varY = \"456\"\n",
    "    print(\"Func Inner varX: {} , varY: {}\".format(varX,varY)) \n",
    "\n",
    "func()\n",
    "print(\"Func Outer varX: {}, varY: {}\".format(varX,varY))\n",
    "\n",
    "# 本地变量申明为全局变量 global\n",
    "def func_global(): \n",
    "    global varY\n",
    "    varY = \"456\"\n",
    "    print(\"Func Inner varX: {} , varY: {}\".format(varX,varY)) \n",
    "\n",
    "func_global()\n",
    "print(\"Func Outer varX: {}, varY: {}\".format(varX,varY))\n",
    "\n",
    "\n",
    "# 内嵌函数，非全句变量\n",
    "varA = \"Hello\"\n",
    "varB = \"World\"\n",
    "varC = \"nihao\"\n",
    "def func_mather():\n",
    "    varC = \"Hi\"\n",
    "    def func_child():\n",
    "        nonlocal varC\n",
    "        global varA\n",
    "        varA = 'Have a nice day! '\n",
    "        varB = \"hahaha\"\n",
    "        varC = 'ByeBye'\n",
    "        print(\"内嵌子函数： varA:{},varB:{},varC:{}\".format(varA,varB,varC))\n",
    "    func_child()\n",
    "    print(\"母函数： varA:{},varB:{},varC:{}\".format(varA,varB,varC))\n",
    "\n",
    "print(\"调用前：  varA:{},varB:{},varC:{}\".format(varA,varB,varC))\n",
    "func_mather()\n",
    "print(\"全局函数： varA:{},varB:{},varC:{}\".format(varA,varB,varC))\n",
    "\n",
    "\n",
    "        \n",
    "    "
   ]
  },
  {
   "cell_type": "code",
   "execution_count": null,
   "metadata": {},
   "outputs": [],
   "source": []
  }
 ],
 "metadata": {
  "kernelspec": {
   "display_name": "Python 3",
   "language": "python",
   "name": "python3"
  },
  "language_info": {
   "codemirror_mode": {
    "name": "ipython",
    "version": 3
   },
   "file_extension": ".py",
   "mimetype": "text/x-python",
   "name": "python",
   "nbconvert_exporter": "python",
   "pygments_lexer": "ipython3",
   "version": "3.6.8"
  }
 },
 "nbformat": 4,
 "nbformat_minor": 2
}
