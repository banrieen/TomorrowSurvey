{
 "cells": [
  {
   "cell_type": "markdown",
   "metadata": {},
   "source": [
    "nginx 负载均衡类型，轮询； 高可用\n",
    "\n",
    "Django 中间件，\n",
    "Django ORM 搜索\n",
    "Django 跨站点攻击预防原理\n",
    "\n",
    "redis 崩溃，缓存，协程；非字符串怎么存储\n",
    "进程管理，mysql 分表，分库；\n",
    "Vue"
   ]
  },
  {
   "cell_type": "markdown",
   "metadata": {},
   "source": [
    "## wsgi\n"
   ]
  },
  {
   "cell_type": "markdown",
   "metadata": {},
   "source": [
    "## django请求的生命周期\n",
    "* 当用户在浏览器中输入url时,浏览器会生成请求头和请求体发给服务端\n",
    "* 请求头和请求体中会包含浏览器的动作(action),这个动作通常为get或者post,体现在url之中.\n",
    "* url经过Django中的wsgi,再经过Django的中间件,最后url到过路由映射表,在路由中一条一条进行匹配,一旦其中一条匹配成功就执行对应的视图函数,后面的路由就不再继续匹配了.\n",
    "* 视图函数根据客户端的请求查询相应的数据.返回给Django,然后Django把客户端想要的数据做为一个字符串返回给客户端.\n",
    "* 客户端浏览器接收到返回的数据,经过渲染后显示给用户."
   ]
  },
  {
   "cell_type": "markdown",
   "metadata": {},
   "source": [
    "## 列举django的内置组件\n",
    "\n",
    ".Admin是对model中对应的数据表进行增删改查提供的组件\n",
    ".model组件：负责操作数据库\n",
    ".form组件：1.生成HTML代码2.数据有效性校验3校验信息返回并展示\n",
    ".ModelForm组件即用于数据库操作,也可用于用户请求的验证\n"
   ]
  },
  {
   "cell_type": "markdown",
   "metadata": {},
   "source": [
    "## 列举django中间件的5个方法？以及django中间件的应用场景\n",
    "\n",
    "    .process_request : 请求进来时,权限认证\n",
    "    .process_view : 路由匹配之后,能够得到视图函数\n",
    "    .process_exception : 异常时执行\n",
    "    .process_template_responseprocess : 模板渲染时执行\n",
    "    .process_response : 请求有响应时执行\n"
   ]
  },
  {
   "cell_type": "markdown",
   "metadata": {},
   "source": [
    "## 简述什么是FBV和CBV\n",
    "FBV和CBV本质是一样的，基于函数的视图叫做FBV，基于类的视图叫做CBV\n",
    "在python中使用CBV的优点：\n",
    "- .提高了代码的复用性，可以使用面向对象的技术，比如Mixin（多继承）\n",
    "- .可以用不同的函数针对不同的HTTP方法处理，而不是通过很多if判断，提高代码可读性"
   ]
  },
  {
   "cell_type": "markdown",
   "metadata": {},
   "source": [
    "## django的request对象是在什么时候创建的？\n",
    "\n",
    "class WSGIHandler(base.BaseHandler):\n",
    "-------request = self.request_class(environ)\n",
    "请求走到WSGIHandler类的时候，执行cell方法，将environ封装成了request"
   ]
  },
  {
   "cell_type": "code",
   "execution_count": null,
   "metadata": {},
   "outputs": [],
   "source": [
    "# 给CBV的程序添加装饰器\n",
    "\n",
    "from django.utils.decorators import method_decorator\n",
    "# 1、给方法加：\n",
    "@method_decorator(check_login)\n",
    "def post(self, request):\n",
    "    ...\n",
    "# 2、给dispatch加：\n",
    "@method_decorator(check_login)\n",
    "def dispatch(self, request, *args, **kwargs):\n",
    "    ...\n",
    "# 3、给类加：\n",
    "@method_decorator(check_login, name=\"get\")\n",
    "@method_decorator(check_login, name=\"post\")\n",
    "class HomeView(View):\n",
    "    "
   ]
  },
  {
   "cell_type": "code",
   "execution_count": null,
   "metadata": {},
   "outputs": [],
   "source": [
    "列举django orm 中所有的方法（QuerySet对象的所有方法）\n",
    " <1> all():                  查询所有结果 \n",
    "  <2> filter(**kwargs):       它包含了与所给筛选条件相匹配的对象。获取不到返回None\n",
    "  <3> get(**kwargs):          返回与所给筛选条件相匹配的对象，返回结果有且只有一个。\n",
    "                              如果符合筛选条件的对象超过一个或者没有都会抛出错误。\n",
    "  <4> exclude(**kwargs):      它包含了与所给筛选条件不匹配的对象\n",
    "  <5> order_by(*field):       对查询结果排序\n",
    "  <6> reverse():              对查询结果反向排序 \n",
    "  <8> count():                返回数据库中匹配查询(QuerySet)的对象数量。 \n",
    "  <9> first():                返回第一条记录 \n",
    "  <10> last():                返回最后一条记录 \n",
    "  <11> exists():              如果QuerySet包含数据，就返回True，否则返回False\n",
    "  <12> values(*field):        返回一个ValueQuerySet——一个特殊的QuerySet，运行后得到的\n",
    "                              并不是一系 model的实例化对象，而是一个可迭代的字典序列\n",
    "  <13> values_list(*field):   它与values()非常相似，它返回的是一个元组序列，values返回的是一个字典序列\n",
    "  <14> distinct():            从返回结果中剔除重复纪录\n"
   ]
  },
  {
   "cell_type": "markdown",
   "metadata": {},
   "source": [
    "## select_related和prefetch_related的区别？\n",
    "\n",
    "前提：有外键存在时，可以很好的减少数据库请求的次数,提高性能\n",
    "select_related通过多表join关联查询,一次性获得所有数据,只执行一次SQL查询\n",
    "prefetch_related分别查询每个表,然后根据它们之间的关系进行处理,执行两次查询"
   ]
  },
  {
   "cell_type": "code",
   "execution_count": null,
   "metadata": {},
   "outputs": [],
   "source": [
    "filter和exclude的区别？\n",
    "\n",
    "两者取到的值都是QuerySet对象,filter选择满足条件的,exclude:排除满足条件的."
   ]
  },
  {
   "cell_type": "code",
   "execution_count": null,
   "metadata": {},
   "outputs": [],
   "source": [
    "列举django orm中三种能写sql语句的方法\n",
    "\n",
    "1.使用execute执行自定义的SQL\n",
    "     直接执行SQL语句（类似于pymysql的用法）\n",
    "        # 更高灵活度的方式执行原生SQL语句\n",
    "        from django.db import connection\n",
    "        cursor = connection.cursor()\n",
    "        cursor.execute(\"SELECT DATE_FORMAT(create_time, '%Y-%m') FROM blog_article;\")\n",
    "        ret = cursor.fetchall()\n",
    "        print(ret)\n",
    "2.使用extra方法 ：queryset.extra(select={\"key\": \"原生的SQL语句\"})\n",
    "3.使用raw方法\n",
    "    1.执行原始sql并返回模型\n",
    "    2.依赖model多用于查询\n"
   ]
  },
  {
   "cell_type": "code",
   "execution_count": null,
   "metadata": {},
   "outputs": [],
   "source": [
    "values和values_list的区别？\n",
    "\n",
    "    values : queryset类型的列表中是字典\n",
    "    values_list : queryset类型的列表中是元组\n"
   ]
  },
  {
   "cell_type": "code",
   "execution_count": null,
   "metadata": {},
   "outputs": [],
   "source": [
    "cookie和session的区别：\n",
    "\n",
    "    .cookie:\n",
    "    cookie是保存在浏览器端的键值对,可以用来做用户认证\n",
    "    .session：\n",
    "    将用户的会话信息保存在服务端,key值是随机产生的字符串,value值是session的内容\n",
    "    依赖于cookie将每个用户的随机字符串保存到用户浏览器上\n",
    "    Django中session默认保存在数据库中：django_session表\n",
    "    flask,session默认将加密的数据写在用户的cookie中\n"
   ]
  },
  {
   "cell_type": "code",
   "execution_count": null,
   "metadata": {},
   "outputs": [],
   "source": [
    "如何使用django orm批量创建数据？\n",
    "\n",
    "objs=[models.Book(title=\"图书{}\".format(i+15)) for i in range(100)]\n",
    "models.Book.objects.bulk_create(objs)"
   ]
  },
  {
   "cell_type": "code",
   "execution_count": null,
   "metadata": {},
   "outputs": [],
   "source": [
    "django的Form组件中,如果字段中包含choices参数，请使用两种方式实现数据源实时更新\n",
    "\n",
    "    1.重写构造函数\n",
    "\n",
    "def__init__(self, *args, **kwargs):\n",
    "     super().__init__(*args, **kwargs)\n",
    "     self.fields[\"city\"].widget.choices = models.City.objects.all().values_list(\"id\", \"name\")\n",
    "\n",
    "    2.利用ModelChoiceField字段,参数为queryset对象\n",
    "    authors = form_model.ModelMultipleChoiceField(queryset=models.NNewType.objects.all())//多选\n"
   ]
  },
  {
   "cell_type": "code",
   "execution_count": null,
   "metadata": {},
   "outputs": [],
   "source": [
    "jango的Model中的ForeignKey字段中的on_delete参数有什么作用？\n",
    "\n",
    "    删除关联表中的数据时,当前表与其关联的field的操作\n",
    "    django2.0之后，表与表之间关联的时候,必须要写on_delete参数,否则会报异常\n"
   ]
  },
  {
   "cell_type": "code",
   "execution_count": null,
   "metadata": {},
   "outputs": [],
   "source": [
    "django的模板中自定义filter和simple_tag的区别？\n",
    "\n",
    "    自定义filter：{{ 参数1|filter函数名:参数2 }}\n",
    "    1.可以与if标签来连用\n",
    "    2.自定义时需要写两个形参\n",
    "\n",
    "    例子：自定义filter\n",
    "            1. 在app01下创建一个叫templatetags的Python包\n",
    "            2. 在templatetags的文件夹下创建py文件  myfilters\n",
    "            3. 在py文件中写代码\n",
    "                from django import template\n",
    "                register = template.Library()\n",
    "                \n",
    "                @register.filter\n",
    "                def add_sb(value,arg='aaa'):\n",
    "                    return \"{}_sb_{}\".formart(value,arg)\n",
    "                    \n",
    "                @register.filter(name='sb')\n",
    "                def add_sb(value,arg='aaa'):\n",
    "                    return \"{}_sb_{}\".formart(value,arg)     \n",
    "            4. 使用自定义filter\n",
    "                {% load myfilters %}\n",
    "                {{ name|add_sb:'xxx'}}\n",
    "                {{ name|sb:'xxx'}}\n",
    "\n",
    "    simple_tag:{% simple_tag函数名 参数1 参数2 %}\n",
    "    1.可以传多个参数,没有限制\n",
    "    2.不能与if标签来连用\n",
    "\n",
    "例子：自定义simpletag\n",
    "    创建\n",
    "        1 、在app01中创建一个名字是templatetags的包，\n",
    "        2、在包中创建一个py文件\n",
    "        3、在py文件中导入\n",
    "              from django import template\n",
    "              register = template.Library()\n",
    "        4、写函数\n",
    "              @register.simple_tag(name=\"plus\")\n",
    "              def plus(a,b,c):\n",
    "                  return '{}+{}+{}'.format(a,b,c)\n",
    "        5、加装饰器@register.simple_tag(name=\"plus\")\n",
    "  使用\n",
    "      1、导入\n",
    "            {% load mytag %}\n",
    "      2、使用\n",
    "           {% plus 1 2 3 %}"
   ]
  },
  {
   "cell_type": "code",
   "execution_count": null,
   "metadata": {},
   "outputs": [],
   "source": [
    "django中csrf的实现机制\n",
    "\n",
    "    第一步：django第一次响应来自某个客户端的请求时,后端随机产生一个token值，把这个token保存在SESSION状态中;同时,后端把这个token放到cookie中交给前端页面；\n",
    "    第二步：下次前端需要发起请求（比如发帖）的时候把这个token值加入到请求数据或者头信息中,一起传给后端；Cookies:{csrftoken:xxxxx}\n",
    "    第三步：后端校验前端请求带过来的token和SESSION里的token是否一致。\n"
   ]
  },
  {
   "cell_type": "code",
   "execution_count": null,
   "metadata": {},
   "outputs": [],
   "source": [
    "基于django使用ajax发送post请求时，都可以使用哪种方法携带csrf token？\n",
    "\n",
    "    1.后端将csrftoken传到前端，发送post请求时携带这个值发送\n",
    "\n",
    "data: {\n",
    "        csrfmiddlewaretoken: '{{ csrf_token }}'\n",
    "  },\n",
    "\n",
    "    2.获取form中隐藏标签的csrftoken值，加入到请求数据中传给后端\n",
    "\n",
    "data: {\n",
    "          csrfmiddlewaretoken:$('[name=\"csrfmiddlewaretoken\"]').val()\n",
    "     },\n",
    "    "
   ]
  },
  {
   "cell_type": "code",
   "execution_count": null,
   "metadata": {},
   "outputs": [],
   "source": [
    "Django本身提供了runserver，为什么不能用来部署？(runserver与uWSGI的区别)\n",
    "\n",
    "    1.runserver方法是调试 Django 时经常用到的运行方式，它使用Django自带的\n",
    "    WSGI Server 运行，主要在测试和开发中使用，并且 runserver 开启的方式也是单进程 。\n",
    "    2.uWSGI是一个Web服务器，它实现了WSGI协议、uwsgi、http 等协议。注意uwsgi是一种通信协议，而uWSGI是实现uwsgi协议和WSGI协议的 Web 服务器。uWSGI具有超快的性能、低内存占用和多app管理等优点，并且搭配着Nginx就是一个生产环境了，能够将用户访问请求与应用 app 隔离开，实现真正的部署 。相比来讲，支持的并发量更高，方便管理多进程，发挥多核的优势，提升性能。\n"
   ]
  },
  {
   "cell_type": "code",
   "execution_count": null,
   "metadata": {},
   "outputs": [],
   "source": [
    "Django如何实现websocket？\n",
    "\n",
    "    django实现websocket官方推荐大家使用channels。channels通过升级http协议 升级到websocket协议。保证实时通讯。也就是说，我们完全可以用channels实现我们的即时通讯。而不是使用长轮询和计时器方式来保证伪实时通讯。他通过改造django框架，使django既支持http协议又支持websocket协议。\n",
    "    官方文档地址：https://channels.readthedocs.io/en/stable/\n"
   ]
  }
 ],
 "metadata": {
  "kernelspec": {
   "display_name": "Python 3",
   "language": "python",
   "name": "python3"
  },
  "language_info": {
   "codemirror_mode": {
    "name": "ipython",
    "version": 3
   },
   "file_extension": ".py",
   "mimetype": "text/x-python",
   "name": "python",
   "nbconvert_exporter": "python",
   "pygments_lexer": "ipython3",
   "version": "3.6.8"
  }
 },
 "nbformat": 4,
 "nbformat_minor": 2
}
