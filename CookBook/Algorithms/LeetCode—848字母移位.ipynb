{
 "cells": [
  {
   "cell_type": "markdown",
   "metadata": {},
   "source": [
    "## 848. 字母移位\n",
    "有一个由小写字母组成的字符串 S，和一个整数数组 shifts。\n",
    "\n",
    "我们将字母表中的下一个字母称为原字母的 移位（由于字母表是环绕的， 'z' 将会变成 'a'）。\n",
    "\n",
    "例如·，shift('a') = 'b'， shift('t') = 'u',， 以及 shift('z') = 'a'。\n",
    "\n",
    "对于每个 shifts[i] = x ， 我们会将 S 中的前 i+1 个字母移位 x 次。\n",
    "\n",
    "返回将所有这些移位都应用到 S 后最终得到的字符串。\n",
    "\n",
    "示例：\n",
    "\n",
    "输入：S = \"abc\", shifts = [3,5,9]\n",
    "输出：\"rpl\"\n",
    "解释： \n",
    "我们以 \"abc\" 开始。\n",
    "将 S 中的第 1 个字母移位 3 次后，我们得到 \"dbc\"。\n",
    "再将 S 中的前 2 个字母移位 5 次后，我们得到 \"igc\"。\n",
    "最后将 S 中的这 3 个字母移位 9 次后，我们得到答案 \"rpl\"。\n",
    "\n",
    "提示：\n",
    "\n",
    "    1 <= S.length = shifts.length <= 20000\n",
    "    0 <= shifts[i] <= 10 ^ 9\n",
    "\n",
    "链接：https://leetcode-cn.com/problems/shifting-letters\n"
   ]
  },
  {
   "cell_type": "markdown",
   "metadata": {},
   "source": [
    "## 题解分析：\n",
    "\n",
    "* 简单讲就是根据 shift 的索引和值移动 S,2 个步骤：\n",
    "\n",
    "1. 根据索引分片 S\n",
    "\n",
    "2. 根据值移动分片的 s, 如果 s 长度大于1， 则要对每个字符移动\n",
    "\n",
    "注意情况：S 都是 ANSCII， 都是小写字母，只要对应的加减; 但存在叠加情况\n",
    "          S 和 shift 长度相同；\n",
    "          字母表的循环可以通过 mod 计算： %26"
   ]
  },
  {
   "cell_type": "code",
   "execution_count": null,
   "metadata": {},
   "outputs": [],
   "source": [
    "# 嵌套循环会出现超时\n",
    "class Solution:\n",
    "    def shiftingLetters(self, S, shifts):\n",
    "        if not S or not shifts:\n",
    "            return None\n",
    "        for i in range(0, len(shifts)):\n",
    "            S = ''.join([chr((ord(s)-97 + shifts[i]%26)%26 + 97) for s in S[:i+1]]) + S[i+1:]\n",
    "        return S\n",
    "        "
   ]
  },
  {
   "cell_type": "code",
   "execution_count": null,
   "metadata": {},
   "outputs": [],
   "source": [
    "# 将i,i-1 的叠加的偏移事先处理，将子问题相关性转为独立的\n",
    "class Solution:\n",
    "    def shiftingLetters(self, S, shifts):\n",
    "        if not S or not shifts:\n",
    "            return None\n",
    "        for i in range(len(shifts)-1, 0, -1):  # 事先完成叠加计算\n",
    "            shifts[i-1] += shifts[i] \n",
    "\n",
    "        return ''.join([chr((ord(S[i])-97 + shifts[i])%26 + 97) for i in range(len(S))])  # 遍历偏移"
   ]
  }
 ],
 "metadata": {
  "kernelspec": {
   "display_name": "Python 3",
   "language": "python",
   "name": "python3"
  },
  "language_info": {
   "codemirror_mode": {
    "name": "ipython",
    "version": 3
   },
   "file_extension": ".py",
   "mimetype": "text/x-python",
   "name": "python",
   "nbconvert_exporter": "python",
   "pygments_lexer": "ipython3",
   "version": "3.6.8"
  }
 },
 "nbformat": 4,
 "nbformat_minor": 2
}
