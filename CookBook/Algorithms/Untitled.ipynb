{
 "cells": [
  {
   "cell_type": "markdown",
   "metadata": {},
   "source": [
    "## 713. 乘积小于K的子数组\n",
    "\n",
    "给定一个正整数数组 nums。\n",
    "\n",
    "找出该数组内乘积小于 k 的连续的子数组的个数。\n",
    "\n",
    "示例 1:\n",
    "\n",
    "输入: nums = [10,5,2,6], k = 100\n",
    "输出: 8\n",
    "解释: 8个乘积小于100的子数组分别为: [10], [5], [2], [6], [10,5], [5,2], [2,6], [5,2,6]。\n",
    "需要注意的是 [10,5,2] 并不是乘积小于100的子数组。\n",
    "\n",
    "说明:\n",
    "\n",
    "    0 < nums.length <= 50000\n",
    "    0 < nums[i] < 1000\n",
    "    0 <= k < 10^6\n",
    "\n",
    "链接：https://leetcode-cn.com/problems/subarray-product-less-than-k\n"
   ]
  }
 ],
 "metadata": {
  "kernelspec": {
   "display_name": "Python 3",
   "language": "python",
   "name": "python3"
  },
  "language_info": {
   "codemirror_mode": {
    "name": "ipython",
    "version": 3
   },
   "file_extension": ".py",
   "mimetype": "text/x-python",
   "name": "python",
   "nbconvert_exporter": "python",
   "pygments_lexer": "ipython3",
   "version": "3.6.8"
  }
 },
 "nbformat": 4,
 "nbformat_minor": 2
}
