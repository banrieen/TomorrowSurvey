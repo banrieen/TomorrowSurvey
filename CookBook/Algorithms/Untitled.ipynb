{
 "cells": [
  {
   "cell_type": "markdown",
   "metadata": {},
   "source": [
    "## 654. 最大二叉树\n",
    "给定一个不含重复元素的整数数组。一个以此数组构建的最大二叉树定义如下：\n",
    "\n",
    "    二叉树的根是数组中的最大元素。\n",
    "    左子树是通过数组中最大值左边部分构造出的最大二叉树。\n",
    "    右子树是通过数组中最大值右边部分构造出的最大二叉树。\n",
    "\n",
    "通过给定的数组构建最大二叉树，并且输出这个树的根节点。\n",
    "\n",
    "\n",
    "示例 ：\n",
    "\n",
    "输入：[3,2,1,6,0,5]\n",
    "输出：返回下面这棵树的根节点：\n",
    "\n",
    "      6\n",
    "    /   \\\n",
    "   3     5\n",
    "    \\    / \n",
    "     2  0   \n",
    "       \\\n",
    "        1\n",
    "\n",
    "提示：\n",
    "\n",
    "    给定的数组的大小在 [1, 1000] 之间。\n",
    "\n",
    "来源：力扣（LeetCode）\n",
    "链接：https://leetcode-cn.com/problems/maximum-binary-tree\n"
   ]
  },
  {
   "cell_type": "code",
   "execution_count": null,
   "metadata": {},
   "outputs": [],
   "source": [
    "# Definition for a binary tree node.\n",
    "# class TreeNode:\n",
    "#     def __init__(self, x):\n",
    "#         self.val = x\n",
    "#         self.left = None\n",
    "#         self.right = None\n",
    "\n",
    "class Solution:\n",
    "#     def constructMaximumBinaryTree(self, nums: List[int]) -> TreeNode:\n",
    "    def constructMaximumBinaryTree(self, nums):\n",
    "        \n",
    "\n",
    "        \n",
    "        "
   ]
  },
  {
   "cell_type": "markdown",
   "metadata": {},
   "source": [
    "## 题解\n"
   ]
  }
 ],
 "metadata": {
  "kernelspec": {
   "display_name": "Python 3",
   "language": "python",
   "name": "python3"
  },
  "language_info": {
   "codemirror_mode": {
    "name": "ipython",
    "version": 3
   },
   "file_extension": ".py",
   "mimetype": "text/x-python",
   "name": "python",
   "nbconvert_exporter": "python",
   "pygments_lexer": "ipython3",
   "version": "3.6.8"
  }
 },
 "nbformat": 4,
 "nbformat_minor": 2
}
