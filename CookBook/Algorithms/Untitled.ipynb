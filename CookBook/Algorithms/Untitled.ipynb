{
 "cells": [
  {
   "cell_type": "markdown",
   "metadata": {},
   "source": [
    "## 861. 翻转矩阵后的得分\n",
    "\n",
    "有一个二维矩阵 A 其中每个元素的值为 0 或 1 。\n",
    "\n",
    "移动是指选择任一行或列，并转换该行或列中的每一个值：将所有 0 都更改为 1，将所有 1 都更改为 0。\n",
    "\n",
    "在做出任意次数的移动后，将该矩阵的每一行都按照二进制数来解释，矩阵的得分就是这些数字的总和。\n",
    "\n",
    "返回尽可能高的分数。\n",
    "\n",
    " \n",
    "\n",
    "示例：\n",
    "\n",
    "输入：[[0,0,1,1],[1,0,1,0],[1,1,0,0]]\n",
    "输出：39\n",
    "解释：\n",
    "转换为 [[1,1,1,1],[1,0,0,1],[1,1,1,1]]\n",
    "0b1111 + 0b1001 + 0b1111 = 15 + 9 + 15 = 39\n",
    "\n",
    " \n",
    "\n",
    "提示：\n",
    "\n",
    "    1 <= A.length <= 20\n",
    "    1 <= A[0].length <= 20\n",
    "    A[i][j] 是 0 或 1\n",
    "\n",
    "来源：力扣（LeetCode）\n",
    "链接：https://leetcode-cn.com/problems/score-after-flipping-matrix\n",
    "\n"
   ]
  },
  {
   "cell_type": "code",
   "execution_count": null,
   "metadata": {},
   "outputs": [
    {
     "name": "stdout",
     "output_type": "stream",
     "text": [
      "> <ipython-input-2-f5a9f7cf3ba9>(9)matrixScore()\n",
      "-> for r in range(0, R):\n",
      "(Pdb) n\n",
      "> <ipython-input-2-f5a9f7cf3ba9>(10)matrixScore()\n",
      "-> col += A[r][c] ^ A[r-1][0]\n",
      "(Pdb) l\n",
      "  5  \t        for c in range(0, C):\n",
      "  6  \t            col = 0\n",
      "  7  \t            import pdb\n",
      "  8  \t            pdb.set_trace()\n",
      "  9  \t            for r in range(0, R):\n",
      " 10  ->\t                col += A[r][c] ^ A[r-1][0]\n",
      " 11  \t            rst += max(col, R-col)*2**(C-1-c)\n",
      " 12  \t        return rst\n",
      " 13  \tA = [[0,0,1,1],[1,0,1,0],[1,1,0,0]]\n",
      " 14  \tprint(Solution().matrixScore(A))\n",
      "[EOF]\n",
      "(Pdb) pp r,R\n",
      "(0, 3)\n",
      "(Pdb) pp c, C\n",
      "(0, 4)\n",
      "(Pdb) A[r][c] ^ A[r-1][0]\n",
      "1\n",
      "(Pdb) A[r][c]\n",
      "0\n",
      "(Pdb) pp A[r][c], A[r-1][0]\n",
      "(0, 1)\n",
      "(Pdb) n\n",
      "> <ipython-input-2-f5a9f7cf3ba9>(9)matrixScore()\n",
      "-> for r in range(0, R):\n",
      "(Pdb) pp col\n",
      "1\n"
     ]
    }
   ],
   "source": [
    "class Solution:\n",
    "    def matrixScore(self, A):\n",
    "        rst = 0\n",
    "        R, C = len(A),len(A[0])\n",
    "        for c in range(0, C):\n",
    "            col = 0\n",
    "            import pdb\n",
    "            pdb.set_trace()\n",
    "            for r in range(0, R):\n",
    "                col += A[r][c] ^ A[r-1][0]\n",
    "            rst += max(col, R-col)*2**(C-1-c)\n",
    "        return rst\n",
    "A = [[0,0,1,1],[1,0,1,0],[1,1,0,0]]\n",
    "print(Solution().matrixScore(A))"
   ]
  },
  {
   "cell_type": "markdown",
   "metadata": {},
   "source": [
    "## 题解\n",
    "\n",
    "* 分析\n",
    "\n",
    "注意到将一行或者一列翻转两次及以上是没有意义的，因为翻转两次等价于没有进行任何翻转。因此每一行和每一列最多被翻转了一次。\n",
    "我们首先枚举每一行是否被翻转，对于一个 R 行 C 列的矩阵，可能的翻转情况有 2^R 种。随后对于每一列，1 的个数应该越多越好。如果某一列当前有 k 个 1，那么翻转后将会有 R - k 个 1，我们比较 k 和 R - k 的大小，就可以判断这一列是否需要翻转。\n",
    "\n",
    "对于任意一行而言，如果这一行的第一个数 1，那么它的分数一定会比不是 1 要高。这是因为第一个 1 代表了 2C−12^{C-1}2C−1，而如果第一位是 0，那么即使后面所有的位置都是 1，这一行的值最多也是 2C−2+⋯+21+20=2C−1−12^{C-2} + \\cdots + 2^1 + 2^0 = 2^{C-1}-12C−2+⋯+21+20=2C−1−1，小于 2C−12^{C-1}2C−1。因此我们不需要枚举每一行是否需要翻转，而是变为：如果该行的第一位是 0，则翻转，否则不翻转。\n",
    "\n",
    "* 算法\n",
    "\n",
    "设矩阵有 R 行 C 列，我们用一个 R 位的二进制数 state 表示每一行是否被翻转，state 的范围是 [0 .. 2^R)。\n",
    "\n",
    "如果该行的第一位是 0 则翻转，否则不翻转（这可以通过代码 A[r][c] ^= A[r][0] 直接实现），并在行翻转完毕后，对第一列进行翻转，这样也使得每一行的第一位都是 1。\n"
   ]
  }
 ],
 "metadata": {
  "kernelspec": {
   "display_name": "Python 3",
   "language": "python",
   "name": "python3"
  },
  "language_info": {
   "codemirror_mode": {
    "name": "ipython",
    "version": 3
   },
   "file_extension": ".py",
   "mimetype": "text/x-python",
   "name": "python",
   "nbconvert_exporter": "python",
   "pygments_lexer": "ipython3",
   "version": "3.6.8"
  }
 },
 "nbformat": 4,
 "nbformat_minor": 2
}
