{
 "cells": [
  {
   "cell_type": "markdown",
   "metadata": {},
   "source": [
    "## 861. 翻转矩阵后的得分\n",
    "\n",
    "有一个二维矩阵 A 其中每个元素的值为 0 或 1 。\n",
    "\n",
    "移动是指选择任一行或列，并转换该行或列中的每一个值：将所有 0 都更改为 1，将所有 1 都更改为 0。\n",
    "\n",
    "在做出任意次数的移动后，将该矩阵的每一行都按照二进制数来解释，矩阵的得分就是这些数字的总和。\n",
    "\n",
    "返回尽可能高的分数。\n",
    "\n",
    " \n",
    "\n",
    "示例：\n",
    "\n",
    "输入：[[0,0,1,1],[1,0,1,0],[1,1,0,0]]\n",
    "输出：39\n",
    "解释：\n",
    "转换为 [[1,1,1,1],[1,0,0,1],[1,1,1,1]]\n",
    "0b1111 + 0b1001 + 0b1111 = 15 + 9 + 15 = 39\n",
    "\n",
    " \n",
    "\n",
    "提示：\n",
    "\n",
    "    1 <= A.length <= 20\n",
    "    1 <= A[0].length <= 20\n",
    "    A[i][j] 是 0 或 1\n",
    "\n",
    "来源：力扣（LeetCode）\n",
    "链接：https://leetcode-cn.com/problems/score-after-flipping-matrix\n",
    "\n"
   ]
  },
  {
   "cell_type": "code",
   "execution_count": null,
   "metadata": {},
   "outputs": [],
   "source": [
    "class Solution:\n",
    "    def matrixScore(self, A: List[List[int]]) -> int:\n",
    "        rst = 0\n",
    "        R, C = len(A),len()\n",
    "        pass"
   ]
  }
 ],
 "metadata": {
  "kernelspec": {
   "display_name": "Python 3",
   "language": "python",
   "name": "python3"
  },
  "language_info": {
   "codemirror_mode": {
    "name": "ipython",
    "version": 3
   },
   "file_extension": ".py",
   "mimetype": "text/x-python",
   "name": "python",
   "nbconvert_exporter": "python",
   "pygments_lexer": "ipython3",
   "version": "3.6.8"
  }
 },
 "nbformat": 4,
 "nbformat_minor": 2
}
