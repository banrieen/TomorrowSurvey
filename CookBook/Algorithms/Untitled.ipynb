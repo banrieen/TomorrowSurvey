{
 "cells": [
  {
   "cell_type": "markdown",
   "metadata": {},
   "source": [
    "## 448. 找到所有数组中消失的数字\n",
    "给定一个范围在  1 ≤ a[i] ≤ n ( n = 数组大小 ) 的 整型数组，数组中的元素一些出现了两次，另一些只出现一次。\n",
    "\n",
    "找到所有在 [1, n] 范围之间没有出现在数组中的数字。\n",
    "\n",
    "您能在不使用额外空间且时间复杂度为O(n)的情况下完成这个任务吗? 你可以假定返回的数组不算在额外空间内。\n",
    "\n",
    "* 示例:\n",
    "\n",
    "输入:\n",
    "[4,3,2,7,8,2,3,1]\n",
    "\n",
    "输出:\n",
    "[5,6]\n",
    "\n",
    "来源：力扣（LeetCode）\n",
    "链接：https://leetcode-cn.com/problems/find-all-numbers-disappeared-in-an-array\n"
   ]
  },
  {
   "cell_type": "code",
   "execution_count": null,
   "metadata": {},
   "outputs": [],
   "source": [
    "# 遍历后将不存在的数字追加到最后，LeetCode 提示超时\n",
    "class Solution:\n",
    "    def findDisappearedNumbers(self, nums):\n",
    "        length = len(nums)\n",
    "        if length < 1:\n",
    "            return None\n",
    "        for i in range(1,length+1):\n",
    "            if i not in nums[:length]:\n",
    "                nums.append(i)\n",
    "        return nums[length:]\n",
    "            "
   ]
  },
  {
   "cell_type": "code",
   "execution_count": null,
   "metadata": {},
   "outputs": [],
   "source": [
    "# 置换法，将数组元素对应为索引，将该索引处的值加n\n",
    "class Solution:\n",
    "    def findDisappearedNumbers(self, nums):\n",
    "        if len(nums) < 1:\n",
    "            return None\n",
    "        length = len(nums)\n",
    "        for i in range(0,length):\n",
    "            index = (nums[i]-1)%length\n",
    "            nums[index] += length\n",
    "        return [i+1  for i, v in enumerate(nums) if v <= length]"
   ]
  },
  {
   "cell_type": "code",
   "execution_count": null,
   "metadata": {},
   "outputs": [],
   "source": [
    "class Solution:\n",
    "    def findDisappearedNumbers(self, nums):\n",
    "        if len(nums) < 1:\n",
    "            return None\n",
    "        length = len(nums)\n",
    "        for i in range(0,length):\n",
    "            index = (nums[i]-1)%length\n",
    "            nums[index] += length\n",
    "        return [i+1  for i, v in enumerate(nums) if v <= length]"
   ]
  },
  {
   "cell_type": "code",
   "execution_count": null,
   "metadata": {},
   "outputs": [],
   "source": [
    "# 抽屉原理 + 基于“异或运算”交换两个变量的值\n"
   ]
  },
  {
   "cell_type": "markdown",
   "metadata": {},
   "source": [
    "## 题解：\n",
    "\n",
    "* 枚举遍历，将元素插入到原数组之后，实际上占用空间变大了\n",
    "\n",
    "* 置换方法：\n",
    "\n",
    "* 抽屉原理 + 基于“异或运算”交换两个变量的值\n",
    "下面直接给结论：“基于异或运算”利用了“异或运算”是不进位的二进制加法。它有如下性质：\n",
    "\n",
    "    如果 a ^ b = c ，那么 a ^ c = b 与 b ^ c = a 同时成立，利用这一条，可以用于交换两个变量的值。\n",
    "\n",
    "于是，交换两个变量的值，例如 a 和 b，不使用第三个变量，可以这样做：\n",
    "\n",
    "a = a ^ b\n",
    "b = a ^ b\n",
    "a = a ^ b\n",
    "\n",
    "我理解的方式就是自己在纸上写几个例子，也比较好记一些，因为右边都一样，左边依次是 a、b、a。\n",
    "\n",
    "这里要特别注意一点，在数组中使用异或运算交换两个变量的值的时候，一定要保证这两个变量不是同一个变量，即索引不能相同，否则会把这个位置上的数变成 000 。\n",
    "\n",
    "作者：liweiwei1419\n",
    "链接：https://leetcode-cn.com/problems/find-all-numbers-disappeared-in-an-array/solution/tong-pai-xu-ji-yu-yi-huo-yun-suan-jiao-huan-liang-/\n",
    "\n"
   ]
  }
 ],
 "metadata": {
  "kernelspec": {
   "display_name": "Python 3",
   "language": "python",
   "name": "python3"
  },
  "language_info": {
   "codemirror_mode": {
    "name": "ipython",
    "version": 3
   },
   "file_extension": ".py",
   "mimetype": "text/x-python",
   "name": "python",
   "nbconvert_exporter": "python",
   "pygments_lexer": "ipython3",
   "version": "3.6.8"
  }
 },
 "nbformat": 4,
 "nbformat_minor": 2
}
