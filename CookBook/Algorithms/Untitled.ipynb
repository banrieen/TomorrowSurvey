{
 "cells": [
  {
   "cell_type": "markdown",
   "metadata": {},
   "source": [
    "## 263. 丑数\n",
    "\n",
    "编写一个程序判断给定的数是否为丑数。\n",
    "\n",
    "丑数就是只包含质因数 2, 3, 5 的正整数。\n",
    "\n",
    "* 示例 1:\n",
    "\n",
    "输入: 6\n",
    "输出: true\n",
    "解释: 6 = 2 × 3\n",
    "\n",
    "* 示例 2:\n",
    "\n",
    "输入: 8\n",
    "输出: true\n",
    "解释: 8 = 2 × 2 × 2\n",
    "\n",
    "* 示例 3:\n",
    "\n",
    "输入: 14\n",
    "输出: false \n",
    "解释: 14 不是丑数，因为它包含了另外一个质因数 7。\n",
    "\n",
    "说明：\n",
    "\n",
    "    1 是丑数。\n",
    "    输入不会超过 32 位有符号整数的范围: [−231,  231 − 1]。\n",
    "\n",
    "链接：https://leetcode-cn.com/problems/ugly-number\n"
   ]
  },
  {
   "cell_type": "markdown",
   "metadata": {},
   "source": [
    "## 题解：\n",
    "\n",
    "* 仅被2，3，5整除,最后结果为1，如果不是1的则不是丑数\n",
    "* 被测数字范围 [−231,  231 − 1]，其中小于0的负数直接排除\n",
    "* 枚举出 N%5,N%3,N%2, 这3中情况下能否整除，直接使用模判断为0部队，因为 7%2=3，3%3==0；实际上还需要迭代除法判断；\n",
    "4/2 = 2, 2/2 = 1,7/3 =2.34\n",
    "* 这时候可以使用循环和递归，但循环比递归效率高\n"
   ]
  }
 ],
 "metadata": {
  "kernelspec": {
   "display_name": "Python 3",
   "language": "python",
   "name": "python3"
  },
  "language_info": {
   "codemirror_mode": {
    "name": "ipython",
    "version": 3
   },
   "file_extension": ".py",
   "mimetype": "text/x-python",
   "name": "python",
   "nbconvert_exporter": "python",
   "pygments_lexer": "ipython3",
   "version": "3.6.8"
  }
 },
 "nbformat": 4,
 "nbformat_minor": 2
}
