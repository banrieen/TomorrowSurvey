{
 "cells": [
  {
   "cell_type": "markdown",
   "metadata": {},
   "source": [
    "## 456. 132模式\n",
    "给定一个整数序列：a1, a2, ..., an，一个132模式的子序列 ai, aj, ak 被定义为：当 i < j < k 时，ai < ak < aj。设计一个算法，当给定有 n 个数字的序列时，验证这个序列中是否含有132模式的子序列。\n",
    "\n",
    "注意：n 的值小于15000。\n",
    "\n",
    "示例1:\n",
    "\n",
    "输入: [1, 2, 3, 4]\n",
    "\n",
    "输出: False\n",
    "\n",
    "解释: 序列中不存在132模式的子序列。\n",
    "\n",
    "示例 2:\n",
    "\n",
    "输入: [3, 1, 4, 2]\n",
    "\n",
    "输出: True\n",
    "\n",
    "解释: 序列中有 1 个132模式的子序列： [1, 4, 2].\n",
    "\n",
    "示例 3:\n",
    "\n",
    "输入: [-1, 3, 2, 0]\n",
    "\n",
    "输出: True\n",
    "\n",
    "解释: 序列中有 3 个132模式的的子序列: [-1, 3, 2], [-1, 3, 0] 和 [-1, 2, 0].\n",
    "\n",
    "来源：力扣（LeetCode）\n",
    "链接：https://leetcode-cn.com/problems/132-pattern\n"
   ]
  },
  {
   "cell_type": "code",
   "execution_count": 2,
   "metadata": {},
   "outputs": [
    {
     "name": "stdout",
     "output_type": "stream",
     "text": [
      "Trying:\n",
      "    print(Solution().find132pattern([3,1,4,2]))\n",
      "Expecting:\n",
      "    False\n",
      "ok\n",
      "2 items had no tests:\n",
      "    __main__.Solution\n",
      "    __main__.Solution.find132pattern\n",
      "1 items passed all tests:\n",
      "   1 tests in __main__\n",
      "1 tests in 3 items.\n",
      "1 passed and 0 failed.\n",
      "Test passed.\n"
     ]
    }
   ],
   "source": [
    "\"\"\"\n",
    "Testcase:\n",
    "\n",
    ">>> print(Solution().find132pattern([3,1,4,2]))\n",
    "False\n",
    "\n",
    "\"\"\"\n",
    "class Solution:\n",
    "    def find132pattern(self, nums):\n",
    "        if not nums:\n",
    "            return False\n",
    "        pvir = nums[0]\n",
    "        length = len(nums)\n",
    "        i, k = 0, length-1\n",
    "        while i < length and k > 0:\n",
    "            if nums[k] > nums[i]:\n",
    "                if max(nums[i:k]) > nums[k]:\n",
    "                    return True\n",
    "                else:\n",
    "                    return False\n",
    "            i += 1\n",
    "            k -= 1\n",
    "                \n",
    "if __name__ == \"__main__\":\n",
    "    import doctest\n",
    "    doctest.testmod(verbose=True)"
   ]
  },
  {
   "cell_type": "markdown",
   "metadata": {},
   "source": [
    "## 题解：\n",
    "1. i, j, k 符合题意应该满足：i<k, k>1, 必有一个"
   ]
  }
 ],
 "metadata": {
  "kernelspec": {
   "display_name": "Python 3",
   "language": "python",
   "name": "python3"
  },
  "language_info": {
   "codemirror_mode": {
    "name": "ipython",
    "version": 3
   },
   "file_extension": ".py",
   "mimetype": "text/x-python",
   "name": "python",
   "nbconvert_exporter": "python",
   "pygments_lexer": "ipython3",
   "version": "3.6.8"
  }
 },
 "nbformat": 4,
 "nbformat_minor": 2
}
