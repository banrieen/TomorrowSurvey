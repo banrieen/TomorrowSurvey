{
 "cells": [
  {
   "cell_type": "markdown",
   "metadata": {},
   "source": [
    "## 561. 数组拆分 I\n",
    "\n",
    "给定长度为 2n 的数组, 你的任务是将这些数分成 n 对, 例如 (a1, b1), (a2, b2), ..., (an, bn) ，使得从1 到 n 的 min(ai, bi) 总和最大。\n",
    "\n",
    "示例 1:\n",
    "\n",
    "输入: [1,4,3,2]\n",
    "\n",
    "输出: 4\n",
    "解释: n 等于 2, 最大总和为 4 = min(1, 2) + min(3, 4).\n",
    "\n",
    "提示:\n",
    "\n",
    "    n 是正整数,范围在 [1, 10000].\n",
    "    数组中的元素范围在 [-10000, 10000].\n",
    "\n",
    "来源：力扣（LeetCode）\n",
    "链接：https://leetcode-cn.com/problems/array-partition-i\n"
   ]
  },
  {
   "cell_type": "code",
   "execution_count": null,
   "metadata": {},
   "outputs": [],
   "source": [
    "\"\"\"\n",
    "\n",
    "\"\"\"\n",
    "\n",
    "class Solution:\n",
    "    def arrayPairSum(self, nums):\n",
    "        nums = sorted(nums, reverse=False)\n",
    "        max_sum = 0\n",
    "        n = len(nums)\n",
    "        while n//2 :\n",
    "            max_sum += min((nums[n-1],nums[n-2]))\n",
    "            n -= 2\n",
    "        return max_sum\n",
    "    \n"
   ]
  },
  {
   "cell_type": "markdown",
   "metadata": {},
   "source": [
    "## 题解：\n",
    "直观模拟求解：将数组排序后，将最大与最小组合，等价于从右往左组合，保留最小值；\n",
    "LeetCode上有数学推导，可以参考。"
   ]
  }
 ],
 "metadata": {
  "kernelspec": {
   "display_name": "Python 3",
   "language": "python",
   "name": "python3"
  },
  "language_info": {
   "codemirror_mode": {
    "name": "ipython",
    "version": 3
   },
   "file_extension": ".py",
   "mimetype": "text/x-python",
   "name": "python",
   "nbconvert_exporter": "python",
   "pygments_lexer": "ipython3",
   "version": "3.6.8"
  }
 },
 "nbformat": 4,
 "nbformat_minor": 2
}
