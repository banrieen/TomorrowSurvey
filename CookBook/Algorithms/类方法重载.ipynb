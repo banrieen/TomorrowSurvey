{
 "cells": [
  {
   "cell_type": "code",
   "execution_count": null,
   "metadata": {},
   "outputs": [],
   "source": [
    "#! /usr/bin/env python\n",
    "# -*- coding: UTF-8 -*-\n",
    "from __future__ import division\n",
    "       \n",
    "class Vector:\n",
    "    \n",
    "    def __init__(self,x,y,z):\n",
    "        self.vt = (x,y,z)\n",
    "    \n",
    "    def __add__(self,other):\n",
    "        self.vt = map(sum,zip(self.vt,other.vt))\n",
    "        return self.__str__()\n",
    "        \n",
    "    def sub(self,si):\n",
    "        return si[0] - si[1]\n",
    "    \n",
    "    def __sub__(self,other):     \n",
    "        self.vt = map(self.sub,zip(self.vt,other.vt))\n",
    "        return self.__str__()\n",
    "        \n",
    "    def mul(self,si):\n",
    "        return si[0] * si[1]\n",
    "    \n",
    "    def div(self,si):\n",
    "        return si[0] / si[1]\n",
    "    \n",
    "    def __mul__(self,other):\n",
    "        self.vt = map(self.mul,zip(self.vt,[other]*len(list(self.vt))))\n",
    "        return self.__str__()\n",
    "    \n",
    "    def __truediv__(self,other):\n",
    "        self.vt = map(self.div,zip(self.vt,[other]*len(list(self.vt))))\n",
    "        return self.__str__()\n",
    "    \n",
    "    def __str__(self):\n",
    "        self.vt = list(self.vt)\n",
    "        for i in range(len(self.vt)):\n",
    "            self.vt[i] = float(\"{:.1f}\".format(self.vt[i]))     \n",
    "        return str(tuple(self.vt))\n",
    "        \n",
    "\n",
    "        \n",
    "if __name__ == '__main__':\n",
    "    alist = input().split()\n",
    "    blist = input().split()\n",
    "    n = float(input())\n",
    "    a = Vector(float((alist[0])),float(alist[1]),float(alist[2]))\n",
    "    b = Vector(float(blist[0]),float(blist[1]),float(blist[2]))    \n",
    "    \n",
    "    print (\"{} {} {} {}\".format(a+b,a-b,a*n,a/n))\n",
    "\n",
    " \n"
   ]
  }
 ],
 "metadata": {
  "kernelspec": {
   "display_name": "Python 3",
   "language": "python",
   "name": "python3"
  },
  "language_info": {
   "codemirror_mode": {
    "name": "ipython",
    "version": 3
   },
   "file_extension": ".py",
   "mimetype": "text/x-python",
   "name": "python",
   "nbconvert_exporter": "python",
   "pygments_lexer": "ipython3",
   "version": "3.6.5"
  }
 },
 "nbformat": 4,
 "nbformat_minor": 2
}
