{
 "cells": [
  {
   "cell_type": "markdown",
   "metadata": {},
   "source": [
    "## 637. 二叉树的层平均值\n",
    "给定一个非空二叉树, 返回一个由每层节点平均值组成的数组.\n",
    "\n",
    "示例 1:\n",
    "\n",
    "输入:\n",
    "    3\n",
    "   / \\\n",
    "  9  20\n",
    "    /  \\\n",
    "   15   7\n",
    "输出: [3, 14.5, 11]\n",
    "解释:\n",
    "第0层的平均值是 3,  第1层是 14.5, 第2层是 11. 因此返回 [3, 14.5, 11].\n",
    "\n",
    "注意：\n",
    "\n",
    "    节点值的范围在32位有符号整数范围内。\n",
    "\n",
    "链接：https://leetcode-cn.com/problems/average-of-levels-in-binary-tree"
   ]
  },
  {
   "cell_type": "code",
   "execution_count": null,
   "metadata": {},
   "outputs": [],
   "source": [
    "## 题解：\n",
    "* 深度遍历二叉树，计算平均值，要注意的是同一层有多个节点的情况\n",
    "* 需要用一个 list 保存结果\n",
    "* 遍历每一层，从 root 开始计算，将左右节点的默认值转换为0，rst = (left + right)/2\n",
    "* "
   ]
  }
 ],
 "metadata": {
  "kernelspec": {
   "display_name": "Python 3",
   "language": "python",
   "name": "python3"
  },
  "language_info": {
   "codemirror_mode": {
    "name": "ipython",
    "version": 3
   },
   "file_extension": ".py",
   "mimetype": "text/x-python",
   "name": "python",
   "nbconvert_exporter": "python",
   "pygments_lexer": "ipython3",
   "version": "3.6.8"
  }
 },
 "nbformat": 4,
 "nbformat_minor": 2
}
