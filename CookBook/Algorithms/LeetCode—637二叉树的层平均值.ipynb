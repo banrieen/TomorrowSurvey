{
 "cells": [
  {
   "cell_type": "markdown",
   "metadata": {},
   "source": [
    "## 637. 二叉树的层平均值\n",
    "给定一个非空二叉树, 返回一个由每层节点平均值组成的数组.\n",
    "\n",
    "示例 1:\n",
    "\n",
    "输入:\n",
    "    3\n",
    "   / \\\n",
    "  9  20\n",
    "    /  \\\n",
    "   15   7\n",
    "输出: [3, 14.5, 11]\n",
    "解释:\n",
    "第0层的平均值是 3,  第1层是 14.5, 第2层是 11. 因此返回 [3, 14.5, 11].\n",
    "\n",
    "注意：\n",
    "\n",
    "    节点值的范围在32位有符号整数范围内。\n",
    "\n",
    "链接：https://leetcode-cn.com/problems/average-of-levels-in-binary-tree"
   ]
  },
  {
   "cell_type": "markdown",
   "metadata": {},
   "source": [
    "## 题解：\n",
    "* 深度遍历二叉树，计算平均值，要注意的是同一层有多个节点的情况\n",
    "* 需要用一个 list 保存结果\n",
    "* 遍历每一层，使用 hash 表记录层级，和层的所有节点，然后求平均数 avg = sum(nodes)/len(nodes)"
   ]
  },
  {
   "cell_type": "code",
   "execution_count": 15,
   "metadata": {},
   "outputs": [],
   "source": [
    "\"\"\"队列二叉树的层序遍历\n",
    "\n",
    "就是从上到下，从左到右依次将每个数放入到队列中，然后按顺序依次打印就是想要的结果。\n",
    "\n",
    "实现过程\n",
    "1、首先将二叉树的根节点push到队列中，判断队列不为NULL，就输出队头的元素，\n",
    "2、判断节点如果有孩子，就将孩子push到队列中，\n",
    "3、遍历过的节点出队列，\n",
    "4、循环以上操作，直到Tree == NULL。\n",
    "\"\"\" \n",
    "# Definition for a binary tree node.\n",
    "from queue import Queue\n",
    "\n",
    "class TreeNode:\n",
    "    def __init__(self, x):\n",
    "        self.val = x\n",
    "        self.left = None\n",
    "        self.right = None\n",
    "        \n",
    "class BTree:\n",
    "    def __init__(self):\n",
    "         self.root = None\n",
    "        \n",
    "    def add(self, x):\n",
    "        node = TreeNode(x) \n",
    "        if not self.root:\n",
    "            self.root = node\n",
    "        queue = [node]\n",
    "        while queue:\n",
    "            cur = queue.pop(0)\n",
    "            if not cur.left:\n",
    "                cur.left = node\n",
    "                break \n",
    "            elif not cur.right:\n",
    "                cur.right = node\n",
    "                break\n",
    "            else:\n",
    "                queue.append(cur.left)\n",
    "                queue.append(cur.right)\n",
    "\n",
    "        \n",
    "def scan_layer(BTree):\n",
    "    q = Queue()\n",
    "    if BTree != NONE:\n",
    "        q.put(BTree) # 压入根节点\n",
    "    else:\n",
    "        return None\n",
    "    while not BTree.empty():\n",
    "        if BTree.left != None:\n",
    "            q.put(BTree.left)\n",
    "        if BTree.right != None:\n",
    "            q.put(BTree.right)\n",
    "    return q\n",
    "        \n",
    "if __name__ == \"__main__\":\n",
    "    l = [3,9,20,15,7]\n",
    "    \n",
    "    bt = BTree()\n",
    "    for i in l:\n",
    "        bt.add(i)\n",
    "    \n",
    "    \n",
    "    "
   ]
  },
  {
   "cell_type": "code",
   "execution_count": null,
   "metadata": {},
   "outputs": [],
   "source": []
  }
 ],
 "metadata": {
  "kernelspec": {
   "display_name": "Python 3",
   "language": "python",
   "name": "python3"
  },
  "language_info": {
   "codemirror_mode": {
    "name": "ipython",
    "version": 3
   },
   "file_extension": ".py",
   "mimetype": "text/x-python",
   "name": "python",
   "nbconvert_exporter": "python",
   "pygments_lexer": "ipython3",
   "version": "3.6.8"
  }
 },
 "nbformat": 4,
 "nbformat_minor": 2
}
