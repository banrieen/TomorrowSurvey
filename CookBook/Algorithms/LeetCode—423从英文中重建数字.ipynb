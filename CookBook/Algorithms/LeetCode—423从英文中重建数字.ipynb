{
 "cells": [
  {
   "cell_type": "markdown",
   "metadata": {},
   "source": [
    "## 423. 从英文中重建数字\n",
    "\n",
    "给定一个非空字符串，其中包含字母顺序打乱的英文单词表示的数字0-9。按升序输出原始的数字。\n",
    "\n",
    "注意:\n",
    "\n",
    "    输入只包含小写英文字母。\n",
    "    输入保证合法并可以转换为原始的数字，这意味着像 \"abc\" 或 \"zerone\" 的输入是不允许的。\n",
    "    输入字符串的长度小于 50,000。\n",
    "\n",
    "示例 1:\n",
    "\n",
    "输入: \"owoztneoer\"\n",
    "\n",
    "输出: \"012\" (zeroonetwo)\n",
    "\n",
    "示例 2:\n",
    "\n",
    "输入: \"fviefuro\"\n",
    "\n",
    "输出: \"45\" (fourfive)\n",
    "\n",
    "\n",
    "链接：https://leetcode-cn.com/problems/reconstruct-original-digits-from-english\n"
   ]
  },
  {
   "cell_type": "markdown",
   "metadata": {},
   "source": [
    "## 题解分析：\n",
    "\n",
    "1. 首先枚举 1 ~ 9 的英文单词[\"one\", \"two\", \"three\", \"four\", \"five\", \"six\", \"seven\", \"eight\", \"nine\"] 寻找其中的特征\n",
    "2. 然后找出单词出现的次数，由大到小排列输出出现的数字，这里的复杂主要是单词识别的问题，完全识别单词比较复杂\n",
    "* 有些字母在单词中是重复的，贪心思想寻找单词比较复杂，耐心的寻找单词中一些特征\n",
    "\n",
    "    “z” 只在 “zero” 中出现。\n",
    "    “w” 只在 “two” 中出现。\n",
    "    “u” 只在 “four” 中出现。\n",
    "    “x” 只在 “six” 中出现。\n",
    "    “g” 只在 “eight” 中出现。\n",
    "\n",
    "    这时候通过识别这一个字母，就代表这个单词出现了；另外：\n",
    "    \n",
    "    “h” 只在 “three” 和 “eight” 中出现。\n",
    "    “f” 只在 “five” 和 “four” 中出现。\n",
    "    “s” 只在 “seven” 和 “six” 中出现。\n",
    "    “i” 在 “nine”，“five”，“six” 和 “eight” 中出现。\n",
    "    “n” 在 “one”，“seven” 和 “nine” 中出现。\n",
    "    \n",
    "    那么 3 出现的次数 = \"h\"的次数 - 8（“g”）的次数；一次类推：\n",
    "    5 = \"\n",
    "    \n",
    "这也是计算 3，5 和 7 的关键，因为有些单词只在一个奇数和一个偶数中出现（而且偶数已经被计算过了）：\n",
    "\n",
    "\n",
    "\n",
    "接下来只需要处理 9和 0，思路依然相同。\n",
    "\n",
    "\n",
    "\n",
    "作者：LeetCode\n",
    "链接：https://leetcode-cn.com/problems/reconstruct-original-digits-from-english/solution/cong-ying-wen-zhong-zhong-jian-shu-zi-by-leetcode/\n",
    "来源：力扣（LeetCode）\n",
    "著作权归作者所有。商业转载请联系作者获得授权，非商业转载请注明出处。"
   ]
  }
 ],
 "metadata": {
  "kernelspec": {
   "display_name": "Python 3",
   "language": "python",
   "name": "python3"
  },
  "language_info": {
   "codemirror_mode": {
    "name": "ipython",
    "version": 3
   },
   "file_extension": ".py",
   "mimetype": "text/x-python",
   "name": "python",
   "nbconvert_exporter": "python",
   "pygments_lexer": "ipython3",
   "version": "3.6.8"
  }
 },
 "nbformat": 4,
 "nbformat_minor": 2
}
