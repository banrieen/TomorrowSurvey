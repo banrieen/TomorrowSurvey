{
 "cells": [
  {
   "cell_type": "markdown",
   "metadata": {},
   "source": [
    "## 423. 从英文中重建数字\n",
    "\n",
    "给定一个非空字符串，其中包含字母顺序打乱的英文单词表示的数字0-9。按升序输出原始的数字。\n",
    "\n",
    "注意:\n",
    "\n",
    "    输入只包含小写英文字母。\n",
    "    输入保证合法并可以转换为原始的数字，这意味着像 \"abc\" 或 \"zerone\" 的输入是不允许的。\n",
    "    输入字符串的长度小于 50,000。\n",
    "\n",
    "示例 1:\n",
    "\n",
    "输入: \"owoztneoer\"\n",
    "\n",
    "输出: \"012\" (zeroonetwo)\n",
    "\n",
    "示例 2:\n",
    "\n",
    "输入: \"fviefuro\"\n",
    "\n",
    "输出: \"45\" (fourfive)\n",
    "\n",
    "\n",
    "链接：https://leetcode-cn.com/problems/reconstruct-original-digits-from-english\n"
   ]
  }
 ],
 "metadata": {
  "kernelspec": {
   "display_name": "Python 3",
   "language": "python",
   "name": "python3"
  },
  "language_info": {
   "codemirror_mode": {
    "name": "ipython",
    "version": 3
   },
   "file_extension": ".py",
   "mimetype": "text/x-python",
   "name": "python",
   "nbconvert_exporter": "python",
   "pygments_lexer": "ipython3",
   "version": "3.6.8"
  }
 },
 "nbformat": 4,
 "nbformat_minor": 2
}
