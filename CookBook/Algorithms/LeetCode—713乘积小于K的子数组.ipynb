{
 "cells": [
  {
   "cell_type": "markdown",
   "metadata": {},
   "source": [
    "## 713. 乘积小于K的子数组\n",
    "\n",
    "给定一个正整数数组 nums。\n",
    "\n",
    "找出该数组内乘积小于 k 的连续的子数组的个数。\n",
    "\n",
    "示例 1:\n",
    "\n",
    "输入: nums = [10,5,2,6], k = 100\n",
    "输出: 8\n",
    "解释: 8个乘积小于100的子数组分别为: [10], [5], [2], [6], [10,5], [5,2], [2,6], [5,2,6]。\n",
    "需要注意的是 [10,5,2] 并不是乘积小于100的子数组。\n",
    "\n",
    "说明:\n",
    "\n",
    "    0 < nums.length <= 50000\n",
    "    0 < nums[i] < 1000\n",
    "    0 <= k < 10^6\n",
    "\n",
    "链接：https://leetcode-cn.com/problems/subarray-product-less-than-k\n"
   ]
  },
  {
   "cell_type": "markdown",
   "metadata": {},
   "source": [
    "## 题解分析\n",
    "1. 题目要求输出为：子数组的个数，子数组的元素是连续的，乘积小于且不等于 k\n",
    "2. 单个元素的数组也是允许的，但其值要小于 k\n",
    "3. 一种是先找出满足调节的子数组，再统计数量；而是边找边统计，不需要维护子数组list\n",
    "* 要点是找出所有的子数组，\n",
    "   1. 依次遍历，任一 i 的值小于 k, 则 count += 1\n",
    "   2. 连续性判断，如果 j = i,j < n,l[i:j]乘积小于 k ，则 count += 1;如果大于等于 k, 则 i += 1，i 向右移动"
   ]
  },
  {
   "cell_type": "code",
   "execution_count": null,
   "metadata": {},
   "outputs": [],
   "source": [
    "# 该方法提示超时\n",
    "\n",
    "class Solution:\n",
    "    def numSubarrayProductLessThanK(self, nums: List[int], k: int) -> int:\n",
    "        if not nums:\n",
    "            return None\n",
    "        count = 0 \n",
    "        length = len(nums)\n",
    "        for i in range(0,length):\n",
    "            if nums[i] < k:\n",
    "                count += 1\n",
    "            j = i + 1\n",
    "            mult = nums[i]\n",
    "            while j < length:\n",
    "                mult *= nums[j]\n",
    "                if mult < k:\n",
    "                    count += 1\n",
    "                    j += 1\n",
    "                else:\n",
    "                    break\n",
    "        return count"
   ]
  },
  {
   "cell_type": "markdown",
   "metadata": {},
   "source": [
    "*\n",
    "\n",
    "分析\n",
    "\n",
    "对于每个 right\\mathrm{right}right，我们需要找到最小的 left\\mathrm{left}left，满足 ∏i=leftrightnums[i]<k\\prod_{i=\\mathrm{left}}^\\mathrm{right} \\mathrm{nums}[i] < k∏i=leftright​nums[i]<k。由于当 left\\mathrm{left}left 增加时，这个乘积是单调不增的，因此我们可以使用双指针的方法，单调地移动 left\\mathrm{left}left。\n",
    "\n",
    "算法\n",
    "\n",
    "我们使用一重循环枚举 right\\mathrm{right}right，同时设置 left\\mathrm{left}left 的初始值为 0。在循环的每一步中，表示 right\\mathrm{right}right 向右移动了一位，将乘积乘以 nums[right]\\mathrm{nums}[\\mathrm{right}]nums[right]。此时我们需要向右移动 left\\mathrm{left}left，直到满足乘积小于 kkk 的条件。在每次移动时，需要将乘积除以 nums[left]\\mathrm{nums}[\\mathrm{left}]nums[left]。当 left\\mathrm{left}left 移动完成后，对于当前的 right\\mathrm{right}right，就包含了 right−left+1\\mathrm{right} - \\mathrm{left} + 1right−left+1 个乘积小于 kkk 的连续子数组。\n"
   ]
  },
  {
   "cell_type": "code",
   "execution_count": null,
   "metadata": {},
   "outputs": [],
   "source": [
    "class Solution:\n",
    "    def numSubarrayProductLessThanK(self, nums, k):\n",
    "            if k <= 1: return 0\n",
    "            prod = 1\n",
    "            ans = left = 0\n",
    "            for right, val in enumerate(nums):\n",
    "                prod *= val\n",
    "                while prod >= k:\n",
    "                    prod /= nums[left]\n",
    "                    left += 1\n",
    "                ans += right - left + 1\n",
    "            return ans\n"
   ]
  }
 ],
 "metadata": {
  "kernelspec": {
   "display_name": "Python 3",
   "language": "python",
   "name": "python3"
  },
  "language_info": {
   "codemirror_mode": {
    "name": "ipython",
    "version": 3
   },
   "file_extension": ".py",
   "mimetype": "text/x-python",
   "name": "python",
   "nbconvert_exporter": "python",
   "pygments_lexer": "ipython3",
   "version": "3.6.8"
  }
 },
 "nbformat": 4,
 "nbformat_minor": 2
}
