{
 "cells": [
  {
   "cell_type": "markdown",
   "metadata": {},
   "source": [
    "## 149. 直线上最多的点数\n",
    "\n",
    "给定一个二维平面，平面上有 n 个点，求最多有多少个点在同一条直线上。\n",
    "\n",
    "* 示例 1:\n",
    "\n",
    "输入: [[1,1],[2,2],[3,3]]\n",
    "输出: 3\n",
    "解释:\n",
    "^\n",
    "|\n",
    "|        o\n",
    "|     o\n",
    "|  o  \n",
    "+------------->\n",
    "0  1  2  3  4\n",
    "\n",
    "* 示例 2:\n",
    "\n",
    "输入: [[1,1],[3,2],[5,3],[4,1],[2,3],[1,4]]\n",
    "输出: 4\n",
    "解释:\n",
    "^\n",
    "|\n",
    "|  o\n",
    "|     o        o\n",
    "|        o\n",
    "|  o        o\n",
    "+------------------->\n",
    "0  1  2  3  4  5  6\n",
    "\n",
    "来源：力扣（LeetCode）\n",
    "链接：https://leetcode-cn.com/problems/max-points-on-a-line\n"
   ]
  },
  {
   "cell_type": "code",
   "execution_count": null,
   "metadata": {},
   "outputs": [],
   "source": []
  },
  {
   "cell_type": "markdown",
   "metadata": {},
   "source": [
    "## 题解\n",
    "\n",
    "我最开始分析这道题，先了解在二维坐标内，成为直线的情况，充分必要条件；因为题目的数据是整数，也比较好分析，常见的情况就是 45 度，90 度，180 度的线条，在这些线条上假如存在连续的点，那么他们的坐标值 (x, y) 也即 [1, 1]应该是一个等差数列。如果点是不连续的，或有其他情况，等差有不同的值；类似的有考虑到使用斜率的方法，官方给出的枚举方法，从一个点出发，看是否有其他点在同一条直线上，给出的斜率的推导公式。\n",
    "\n",
    "另外一个天前提，平面内任意 2 点都可以画一条直线，问题是在第 3 点，及之后的点的判断；"
   ]
  }
 ],
 "metadata": {
  "kernelspec": {
   "display_name": "Python 3",
   "language": "python",
   "name": "python3"
  },
  "language_info": {
   "codemirror_mode": {
    "name": "ipython",
    "version": 3
   },
   "file_extension": ".py",
   "mimetype": "text/x-python",
   "name": "python",
   "nbconvert_exporter": "python",
   "pygments_lexer": "ipython3",
   "version": "3.6.8"
  }
 },
 "nbformat": 4,
 "nbformat_minor": 2
}
