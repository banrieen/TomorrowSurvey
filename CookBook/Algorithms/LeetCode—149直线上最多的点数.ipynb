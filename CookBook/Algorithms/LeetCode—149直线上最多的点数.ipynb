{
 "cells": [
  {
   "cell_type": "markdown",
   "metadata": {},
   "source": [
    "## 149. 直线上最多的点数\n",
    "\n",
    "给定一个二维平面，平面上有 n 个点，求最多有多少个点在同一条直线上。\n",
    "\n",
    "* 示例 1:\n",
    "\n",
    "输入: [[1,1],[2,2],[3,3]]\n",
    "输出: 3\n",
    "解释:\n",
    "^\n",
    "|\n",
    "|        o\n",
    "|     o\n",
    "|  o  \n",
    "+------------->\n",
    "0  1  2  3  4\n",
    "\n",
    "* 示例 2:\n",
    "\n",
    "输入: [[1,1],[3,2],[5,3],[4,1],[2,3],[1,4]]\n",
    "输出: 4\n",
    "解释:\n",
    "^\n",
    "|\n",
    "|  o\n",
    "|     o        o\n",
    "|        o\n",
    "|  o        o\n",
    "+------------------->\n",
    "0  1  2  3  4  5  6\n",
    "\n",
    "来源：力扣（LeetCode）\n",
    "链接：https://leetcode-cn.com/problems/max-points-on-a-line\n"
   ]
  },
  {
   "cell_type": "code",
   "execution_count": null,
   "metadata": {},
   "outputs": [],
   "source": []
  },
  {
   "cell_type": "markdown",
   "metadata": {},
   "source": [
    "## 题解\n",
    "\n",
    "我最开始 "
   ]
  }
 ],
 "metadata": {
  "kernelspec": {
   "display_name": "Python 3",
   "language": "python",
   "name": "python3"
  },
  "language_info": {
   "codemirror_mode": {
    "name": "ipython",
    "version": 3
   },
   "file_extension": ".py",
   "mimetype": "text/x-python",
   "name": "python",
   "nbconvert_exporter": "python",
   "pygments_lexer": "ipython3",
   "version": "3.6.8"
  }
 },
 "nbformat": 4,
 "nbformat_minor": 2
}
