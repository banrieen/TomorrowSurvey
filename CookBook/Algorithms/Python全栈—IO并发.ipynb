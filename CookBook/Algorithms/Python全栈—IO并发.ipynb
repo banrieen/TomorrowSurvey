{
 "cells": [
  {
   "cell_type": "markdown",
   "metadata": {},
   "source": [
    "## 并发\n",
    "\n",
    "* 举例说明 conccurent.future 的中线程池的用法\n",
    "* 说一说多线程，多进程和协程的区别。\n",
    "* 简述 GIL\n",
    "* 进程之间如何通信\n",
    "* IO 多路复用的作用？\n",
    "* select、poll、epoll 模型的区别？\n",
    "* 什么是并发和并行？\n",
    "* 一个线程 1 让线程 2 去调用一个函数怎么实现？\n",
    "* 解释什么是异步非阻塞？\n",
    "* threading.local 的作用？"
   ]
  }
 ],
 "metadata": {
  "kernelspec": {
   "display_name": "Python 3",
   "language": "python",
   "name": "python3"
  },
  "language_info": {
   "codemirror_mode": {
    "name": "ipython",
    "version": 3
   },
   "file_extension": ".py",
   "mimetype": "text/x-python",
   "name": "python",
   "nbconvert_exporter": "python",
   "pygments_lexer": "ipython3",
   "version": "3.6.8"
  }
 },
 "nbformat": 4,
 "nbformat_minor": 2
}
