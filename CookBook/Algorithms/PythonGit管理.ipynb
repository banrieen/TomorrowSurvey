{
 "cells": [
  {
   "cell_type": "markdown",
   "metadata": {},
   "source": [
    "Git 面试题\n",
    "\n",
    "169.说说你知道的 git 命令\n",
    "170.git 如何查看某次提交修改的内容"
   ]
  }
 ],
 "metadata": {
  "kernelspec": {
   "display_name": "Python 3",
   "language": "python",
   "name": "python3"
  },
  "language_info": {
   "codemirror_mode": {
    "name": "ipython",
    "version": 3
   },
   "file_extension": ".py",
   "mimetype": "text/x-python",
   "name": "python",
   "nbconvert_exporter": "python",
   "pygments_lexer": "ipython3",
   "version": "3.6.8"
  }
 },
 "nbformat": 4,
 "nbformat_minor": 2
}
