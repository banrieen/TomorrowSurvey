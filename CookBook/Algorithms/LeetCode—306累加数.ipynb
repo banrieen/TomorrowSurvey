{
 "cells": [
  {
   "cell_type": "markdown",
   "metadata": {},
   "source": [
    "306. 累加数\n",
    "\n",
    "累加数是一个字符串，组成它的数字可以形成累加序列。\n",
    "\n",
    "一个有效的累加序列必须至少包含 3 个数。除了最开始的两个数以外，字符串中的其他数都等于它之前两个数相加的和。\n",
    "\n",
    "给定一个只包含数字 '0'-'9' 的字符串，编写一个算法来判断给定输入是否是累加数。\n",
    "\n",
    "说明: 累加序列里的数不会以 0 开头，所以不会出现 1, 2, 03 或者 1, 02, 3 的情况。\n",
    "\n",
    "* 示例 1:\n",
    "\n",
    "输入: \"112358\"\n",
    "输出: true \n",
    "解释: 累加序列为: 1, 1, 2, 3, 5, 8 。1 + 1 = 2, 1 + 2 = 3, 2 + 3 = 5, 3 + 5 = 8\n",
    "\n",
    "* 示例 2:\n",
    "\n",
    "输入: \"199100199\"\n",
    "输出: true \n",
    "解释: 累加序列为: 1, 99, 100, 199。1 + 99 = 100, 99 + 100 = 199\n",
    "\n",
    "* 进阶:\n",
    "你如何处理一个溢出的过大的整数输入?\n",
    "\n",
    "来源：力扣（LeetCode）\n"
   ]
  },
  {
   "cell_type": "code",
   "execution_count": null,
   "metadata": {},
   "outputs": [
    {
     "name": "stdout",
     "output_type": "stream",
     "text": [
      "> <ipython-input-2-6ee7bde4a46a>(15)isAdditiveNumber()\n",
      "-> while step <= (i // 2 ):\n",
      "(Pdb) pp step\n",
      "1\n",
      "--KeyboardInterrupt--\n"
     ]
    }
   ],
   "source": [
    "class Solution:\n",
    "    def isAdditiveNumber(self, num):\n",
    "        length = len(num)\n",
    "        if length < 3:\n",
    "            return False\n",
    "        i = length - 1\n",
    "        step = 1\n",
    "        if int(num[i]) == int(num[i-1]) + int(num[i-2]):\n",
    "            i -= 1\n",
    "        # elif i-2 == 0 :\n",
    "        #     return False\n",
    "        else:\n",
    "            import pdb \n",
    "            pdb.set_trace()\n",
    "            while step <= (i // 2 ):\n",
    "                print(f\"Step1: {step}, i: {i}, length: {length}, num[:i-step]: {num[:i-step]}, num[i-step:]: {num[i-step:]} \")\n",
    "                if i-step < 1:\n",
    "                    return False\n",
    "                elif self.find(num[:i-step], num[i-step:], i-step):\n",
    "                    i -= step\n",
    "                    break\n",
    "                else:\n",
    "                    step += 1\n",
    "            print(f\"Out1: step: {step},length:{length},i: {i}， {num[:i-step]}, {num[i-step:]} , Assert: {step >= (i // 2)}\")\n",
    "            if step >= (i // 2):\n",
    "                print(f\"Out1: step: {step},length:{length},i: {i}， {num[:i-step]}, {num[i-step:]} \")\n",
    "                return False\n",
    "        self.isAdditiveNumber(num[:i])\n",
    "        return True\n",
    "\n",
    "    def find(self, num, lastSum, length):\n",
    "        if \"0\" in lastSum[0]:\n",
    "            return False\n",
    "        sumLen = len(lastSum)\n",
    "        lastSum = int(lastSum)\n",
    "        for i in range(length-1, -1, -1):\n",
    "            for j in range(i-1, -1,-1):\n",
    "                if len(num[i:]) > sumLen or len(num[j:i]) > sumLen:\n",
    "                    continue\n",
    "                if num[i:][0] == \"0\" or num[j:i][0] == \"0\":\n",
    "                    continue\n",
    "                if int(num[j:i]) + int(num[i:]) == lastSum:\n",
    "                    return True\n",
    "        return False\n",
    "    \n",
    "if __name__ == \"__main__\":\n",
    "    print(Solution().isAdditiveNumber(\"0235813\"))"
   ]
  },
  {
   "cell_type": "code",
   "execution_count": null,
   "metadata": {},
   "outputs": [],
   "source": []
  }
 ],
 "metadata": {
  "kernelspec": {
   "display_name": "Python 3",
   "language": "python",
   "name": "python3"
  },
  "language_info": {
   "codemirror_mode": {
    "name": "ipython",
    "version": 3
   },
   "file_extension": ".py",
   "mimetype": "text/x-python",
   "name": "python",
   "nbconvert_exporter": "python",
   "pygments_lexer": "ipython3",
   "version": "3.6.8"
  }
 },
 "nbformat": 4,
 "nbformat_minor": 2
}
