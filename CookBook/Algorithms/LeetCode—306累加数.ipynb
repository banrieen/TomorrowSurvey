{
 "cells": [
  {
   "cell_type": "markdown",
   "metadata": {},
   "source": [
    "306. 累加数\n",
    "\n",
    "累加数是一个字符串，组成它的数字可以形成累加序列。\n",
    "\n",
    "一个有效的累加序列必须至少包含 3 个数。除了最开始的两个数以外，字符串中的其他数都等于它之前两个数相加的和。\n",
    "\n",
    "给定一个只包含数字 '0'-'9' 的字符串，编写一个算法来判断给定输入是否是累加数。\n",
    "\n",
    "说明: 累加序列里的数不会以 0 开头，所以不会出现 1, 2, 03 或者 1, 02, 3 的情况。\n",
    "\n",
    "* 示例 1:\n",
    "\n",
    "输入: \"112358\"\n",
    "输出: true \n",
    "解释: 累加序列为: 1, 1, 2, 3, 5, 8 。1 + 1 = 2, 1 + 2 = 3, 2 + 3 = 5, 3 + 5 = 8\n",
    "\n",
    "* 示例 2:\n",
    "\n",
    "输入: \"199100199\"\n",
    "输出: true \n",
    "解释: 累加序列为: 1, 99, 100, 199。1 + 99 = 100, 99 + 100 = 199\n",
    "\n",
    "* 进阶:\n",
    "你如何处理一个溢出的过大的整数输入?\n",
    "\n",
    "来源：力扣（LeetCode）\n"
   ]
  },
  {
   "cell_type": "code",
   "execution_count": null,
   "metadata": {},
   "outputs": [],
   "source": []
  }
 ],
 "metadata": {
  "kernelspec": {
   "display_name": "Python 3",
   "language": "python",
   "name": "python3"
  },
  "language_info": {
   "codemirror_mode": {
    "name": "ipython",
    "version": 3
   },
   "file_extension": ".py",
   "mimetype": "text/x-python",
   "name": "python",
   "nbconvert_exporter": "python",
   "pygments_lexer": "ipython3",
   "version": "3.6.8"
  }
 },
 "nbformat": 4,
 "nbformat_minor": 2
}
