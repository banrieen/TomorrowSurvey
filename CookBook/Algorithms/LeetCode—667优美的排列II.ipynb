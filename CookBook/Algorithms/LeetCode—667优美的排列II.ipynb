{
 "cells": [
  {
   "cell_type": "markdown",
   "metadata": {},
   "source": [
    "## 667. 优美的排列 II"
   ]
  },
  {
   "cell_type": "markdown",
   "metadata": {},
   "source": [
    "## 题解：\n",
    "1. 初始化为 1 到 n 的 list，此时所有的差值为1，也只有 1 种差值\n",
    "* 归纳枚举方法，通过找规律列决出某一种符合条件的列表，如 l[k:] 的元素插入到 l[:k]的每个元素后\n",
    "2. 然后从第二位到末位开始不停翻转，翻转一次增加一种差值"
   ]
  },
  {
   "cell_type": "code",
   "execution_count": null,
   "metadata": {},
   "outputs": [],
   "source": [
    "\"\"\"列表翻转——切片: 既每次讲rst[i:]的元素逆序一次\n",
    "In [8]: r=[1,2,3,4,5,6,7,8]\n",
    "In [19]: r[2:]\n",
    "Out[19]: [3, 4, 5, 6, 7, 8]\n",
    "In [18]: r[:1:-1]\n",
    "Out[18]: [8, 7, 6, 5, 4, 3]\n",
    "In [20]: r[2:] = r[:1:-1]\n",
    "\n",
    "In [21]: r\n",
    "Out[21]: [1, 2, 8, 7, 6, 5, 4, 3]\n",
    "\"\"\"\n",
    "class Solution:\n",
    "    def constructArray(self, n: int, k: int) -> List[int]:\n",
    "        rst = list(range(1,n+1))\n",
    "        for i in range(1,k):\n",
    "            rst[i:] = rst[:i-1:-1] # 翻转，既每次讲rst[i:]的元素逆序一次，\n",
    "            \n",
    "        return rst"
   ]
  }
 ],
 "metadata": {
  "kernelspec": {
   "display_name": "Python 3",
   "language": "python",
   "name": "python3"
  },
  "language_info": {
   "codemirror_mode": {
    "name": "ipython",
    "version": 3
   },
   "file_extension": ".py",
   "mimetype": "text/x-python",
   "name": "python",
   "nbconvert_exporter": "python",
   "pygments_lexer": "ipython3",
   "version": "3.6.8"
  }
 },
 "nbformat": 4,
 "nbformat_minor": 2
}
