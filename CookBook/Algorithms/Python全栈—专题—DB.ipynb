{
 "cells": [
  {
   "cell_type": "markdown",
   "metadata": {},
   "source": [
    "## 收集到的问题\n",
    "* json 序列化时，可以处理的数据类型有哪些？如何定制支持 datetime 类型？\n",
    "* json 序列化时，默认遇到中文会转换成 unicode，如果想要保留中文怎么办？\n",
    "* 请写一段 Python连接 Mongo 数据库，然后的查询代码。\n",
    "* 说一说 Redis 的基本类型。\n",
    "* 请写一段 Python连接 Redis 数据库的代码。\n",
    "* 请写一段 Python 连接 MySQL 数据库的代码。\n",
    "* 了解 Redis 的事务么？\n",
    "* 了解数据库的三范式么？\n",
    "* 了解分布式锁么？\n",
    "* 用 Python 实现一个 Reids 的分布式锁的功能。\n",
    "* 写一段 Python 使用 Mongo 数据库创建索引的代码。"
   ]
  }
 ],
 "metadata": {
  "kernelspec": {
   "display_name": "Python 3",
   "language": "python",
   "name": "python3"
  },
  "language_info": {
   "codemirror_mode": {
    "name": "ipython",
    "version": 3
   },
   "file_extension": ".py",
   "mimetype": "text/x-python",
   "name": "python",
   "nbconvert_exporter": "python",
   "pygments_lexer": "ipython3",
   "version": "3.6.8"
  }
 },
 "nbformat": 4,
 "nbformat_minor": 2
}
