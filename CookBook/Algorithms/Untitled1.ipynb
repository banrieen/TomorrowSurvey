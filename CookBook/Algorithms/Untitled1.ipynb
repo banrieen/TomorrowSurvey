{
 "cells": [
  {
   "cell_type": "markdown",
   "metadata": {},
   "source": [
    "## 1. 两数之和\n",
    "\n",
    "给定一个整数数组 nums 和一个目标值 target，请你在该数组中找出和为目标值的那 两个 整数，并返回他们的数组下标。\n",
    "\n",
    "你可以假设每种输入只会对应一个答案。但是，你不能重复利用这个数组中同样的元素。\n",
    "\n",
    "示例:\n",
    "\n",
    "给定 nums = [2, 7, 11, 15], target = 9\n",
    "\n",
    "因为 nums[0] + nums[1] = 2 + 7 = 9\n",
    "所以返回 [0, 1]\n",
    "\n",
    "来源：力扣（LeetCode）\n",
    "链接：https://leetcode-cn.com/problems/two-sum\n"
   ]
  },
  {
   "cell_type": "code",
   "execution_count": null,
   "metadata": {},
   "outputs": [],
   "source": [
    "# 枚举解法\n",
    "class Solution:\n",
    "    def twoSum(self, nums: List[int], target: int) -> List[int]:\n",
    "        length = len(nums)\n",
    "        if length < 2:\n",
    "            return None\n",
    "        for i in range(0, length):\n",
    "            for j in range(i,length):\n",
    "                if nums[i] + nums[j] == target and i != j:\n",
    "                    return [i ,j]\n",
    "                else:\n",
    "                    continue\n",
    "        return None"
   ]
  },
  {
   "cell_type": "code",
   "execution_count": null,
   "metadata": {},
   "outputs": [],
   "source": [
    "\"\"\"\n",
    "# 借助于 hash 表结构，｛value:index｝一次遍历\n",
    "# Testcase:\n",
    "\n",
    ">>> Solution().twoSum([2,7,11,15],9)\n",
    "[0,1]\n",
    "\n",
    ">>> Solution().twoSum([3,3],6)\n",
    "[0,1]\n",
    "\n",
    "\"\"\"\n",
    "\n",
    "class Solution:\n",
    "    def twoSum(self, nums, target):\n",
    "        length = len(nums)\n",
    "        if length < 2:\n",
    "            return None\n",
    "        rst = {}\n",
    "        temp = 0\n",
    "        for i in range(0, length):\n",
    "            temp = target - nums[i]\n",
    "            print(f\"\")\n",
    "            if rst.get(temp) != None and rst.get(temp) != i:\n",
    "                return [rst.get(temp),i]\n",
    "            rst[nums[i]] = i\n",
    "        return None\n",
    "\n",
    "    if __name__ == \"__main__\":\n",
    "        import doctest\n",
    "        doctest.testmod(verbose=True)\n"
   ]
  },
  {
   "cell_type": "code",
   "execution_count": null,
   "metadata": {},
   "outputs": [],
   "source": [
    "## 题解：\n",
    "1. 首先根据题意，使用枚举法来模拟求解，需要注意题干中不是相同的元素，指的应该是非相同位置的元素\n",
    "2. 使用空间换效率，借助于 hash 表 key - value 格式存贮列表的元素和对应的位置，主要是 hash 的查找效率的O(1);\n",
    "   这时需要注意 2 点：返回"
   ]
  }
 ],
 "metadata": {
  "kernelspec": {
   "display_name": "Python 3",
   "language": "python",
   "name": "python3"
  },
  "language_info": {
   "codemirror_mode": {
    "name": "ipython",
    "version": 3
   },
   "file_extension": ".py",
   "mimetype": "text/x-python",
   "name": "python",
   "nbconvert_exporter": "python",
   "pygments_lexer": "ipython3",
   "version": "3.6.8"
  }
 },
 "nbformat": 4,
 "nbformat_minor": 2
}
