{
 "cells": [
  {
   "cell_type": "markdown",
   "metadata": {},
   "source": [
    "## 378. 有序矩阵中第K小的元素\n",
    "给定一个 n x n 矩阵，其中每行和每列元素均按升序排序，找到矩阵中第k小的元素。\n",
    "请注意，它是排序后的第k小元素，而不是第k个元素。\n",
    "\n",
    "* 示例:\n",
    "\n",
    "```\n",
    "matrix = [\n",
    "   [ 1,  5,  9],\n",
    "   [10, 11, 13],\n",
    "   [12, 13, 15]\n",
    "],\n",
    "k = 8,\n",
    "\n",
    "返回 13。\n",
    "```\n",
    "\n",
    "* 说明:\n",
    "你可以假设 k 的值永远是有效的, 1 ≤ k ≤ n2 。\n",
    "\n",
    "来源：力扣（LeetCode）\n",
    "链接：https://leetcode-cn.com/problems/kth-smallest-element-in-a-sorted-matrix\n"
   ]
  },
  {
   "cell_type": "code",
   "execution_count": null,
   "metadata": {},
   "outputs": [],
   "source": [
    "class Solution:\n",
    "    def kthSmallest(self, matrix, k):\n",
    "        n = len(matrix)\n",
    "        i, j = 0, 0\n",
    "        start = matrix[0][0]\n",
    "        end = matrix[n-1][n-1]\n",
    "        \n",
    "        index = 0 \n",
    "        while start < end:\n",
    "            index = 0\n",
    "            mid = start + (end - start)//2\n",
    "            i, j = n-1, 0\n",
    "            while i >=0 and j < n:  # 局部范围比较\n",
    "\n",
    "                if matrix[i][j] <= mid:  # 一个优化的地方，找出 mid 的 索引，i 可以从 mid 开始\n",
    "                    index += 1 + i  # 在第 i 行，从左向右比较,记录索引\n",
    "                    j += 1\n",
    "                else:\n",
    "                    i -= 1          # 自下往上比较，mid 变动后，i 要相应变动\n",
    "            if index < k:           # 根据局部范围比较的结果，变动 mid\n",
    "                start = mid + 1\n",
    "            else:\n",
    "                end = mid\n",
    "        return start"
   ]
  },
  {
   "cell_type": "markdown",
   "metadata": {},
   "source": [
    "## 题解：\n",
    "\n",
    "* 首先这有2个子问题：排序查找，返回索引对应的数；这是一个有序二维表，从左上角到右下角增大;\n",
    "\n",
    "*一般是先排序再查找，有序列表可以使用归并排序，但是这里有 n 维，查找较好的方法是二分查找，现在比较好的方法是在排序过程中查找。*\n",
    "\n",
    "+ 可用的特殊条件，n*n 维矩阵，行列都是有序的，则左上角的元素因该是最小的，右下角的元素应该是最大的\n",
    "+ 将 matrix 矩阵元素视为 从 matrix[0][0] 到 matrix[n-1][n-1] 的有序列表； mid = matrix[n-1][n-1]//2,最好为 mid = matrix[0][0] + (matrix[n-1][n-1] - matrix[0][0]),传统情况能避免索引出界。\n",
    "+ 在比较值得过程中，计算出对应值的 index，如果记录的 index 小于 k，就在另一半中查找；最后就返回记录的 index\n",
    "+ 在遍历的时候，还是要做两重，一是将元素大小二分查找范围，缩减范围；而是在缩减的范围内寻找索引的值。\n"
   ]
  },
  {
   "cell_type": "markdown",
   "metadata": {},
   "source": [
    "## 题解二：\n",
    "\n",
    "**刚刚也提到使用归并排序，类似可考虑堆、优先序列**\n",
    "\n",
    "问题可转换为在 N 个有序列表找第 K 小的元素。\n",
    "\n",
    "如果2个有序列表，找到第 K 个，只需2个指针分别遍历 2 个列表，然后比较大小，找到第 k 个。\n",
    "假如有N个指针指向每一行，每次取最小，然后将那一行的指针往后偏移，找到第 K 个。每次 N 个取最小，时间复杂度需要 O(N)。\n",
    "\n",
    "堆或优先队列：维护一个 N 大小的最小堆，每次 pop 最小的，只需要 logN。当 k<N 时，只需遍历前k行，只需维护 k 大小的堆。\n",
    "时间复杂度：有序列表建堆是O(min(k,N)) + k*O(log(min(k,N)))，空间复杂度：O(min(k,N))\n",
    "\n",
    "参考：https://leetcode-cn.com/problems/kth-smallest-element-in-a-sorted-matrix/solution/on-python-by-jerry4free/\n"
   ]
  },
  {
   "cell_type": "code",
   "execution_count": null,
   "metadata": {},
   "outputs": [],
   "source": [
    "from heapq import *\n",
    "\n",
    "class Solution(object):\n",
    "    def kthSmallest(self, matrix, k):\n",
    "        minheap = []\n",
    "        n = len(matrix)\n",
    "        for i in range(min(k, n)):  # 当k小于n时，只需遍历前k行\n",
    "            heappush(minheap, (matrix[i][0], i, 0))  # 堆里的每个元素是（matrix[i][j], i, j）\n",
    "            \n",
    "        counter = 0\n",
    "        x, i, j = 0, 0, 0\n",
    "        while counter < k:\n",
    "            counter += 1\n",
    "            x, i, j = heappop(minheap)\n",
    "            if j < n-1:\n",
    "                heappush(minheap, (matrix[i][j+1], i, j+1))  # 向堆里加入该元素所在行的下一个元素\n",
    "        return x\n"
   ]
  }
 ],
 "metadata": {
  "kernelspec": {
   "display_name": "Python 3",
   "language": "python",
   "name": "python3"
  },
  "language_info": {
   "codemirror_mode": {
    "name": "ipython",
    "version": 3
   },
   "file_extension": ".py",
   "mimetype": "text/x-python",
   "name": "python",
   "nbconvert_exporter": "python",
   "pygments_lexer": "ipython3",
   "version": "3.6.8"
  }
 },
 "nbformat": 4,
 "nbformat_minor": 2
}
