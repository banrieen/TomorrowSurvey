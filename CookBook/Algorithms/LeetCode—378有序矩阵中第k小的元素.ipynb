{
 "cells": [
  {
   "cell_type": "markdown",
   "metadata": {},
   "source": [
    "## 378. 有序矩阵中第K小的元素\n",
    "给定一个 n x n 矩阵，其中每行和每列元素均按升序排序，找到矩阵中第k小的元素。\n",
    "请注意，它是排序后的第k小元素，而不是第k个元素。\n",
    "\n",
    "* 示例:\n",
    "\n",
    "```\n",
    "matrix = [\n",
    "   [ 1,  5,  9],\n",
    "   [10, 11, 13],\n",
    "   [12, 13, 15]\n",
    "],\n",
    "k = 8,\n",
    "\n",
    "返回 13。\n",
    "```\n",
    "\n",
    "* 说明:\n",
    "你可以假设 k 的值永远是有效的, 1 ≤ k ≤ n2 。\n",
    "\n",
    "来源：力扣（LeetCode）\n",
    "链接：https://leetcode-cn.com/problems/kth-smallest-element-in-a-sorted-matrix\n"
   ]
  },
  {
   "cell_type": "code",
   "execution_count": null,
   "metadata": {},
   "outputs": [],
   "source": []
  },
  {
   "cell_type": "markdown",
   "metadata": {},
   "source": [
    "## 题解：\n",
    "\n",
    "* 首先这是一个有序二维表，但需要将元素排列到一维才能查找;\n",
    "一般是先排序再查找，有序列表可以使用归并排序，但是这里有 n 维，查找较好的方法是二分查找，现在比较好的方法是在排序过程中查找。\n",
    "\n",
    "一个简单的方法现将二维列表连接为新的一维列表，然后排序，最后查找第 k 个元素。\n",
    "\n",
    "+ 可用的特殊条件，n*n 维矩阵，行列都是有序的，则左上角的元素因该是最小的，右下角的元素应该是最大的\n",
    "+ 将 matrix 矩阵元素视为 从 matrix[0][0] 到 matrix[n-1][n-1] 的有序列表； mid = matrix[n-1][n-1]//2,最好为 mid = matr\n",
    "+ 在比较值得过程中，计算出对应值的 index，如果记录的 index 小于 k，就在另一半"
   ]
  }
 ],
 "metadata": {
  "kernelspec": {
   "display_name": "Python 3",
   "language": "python",
   "name": "python3"
  },
  "language_info": {
   "codemirror_mode": {
    "name": "ipython",
    "version": 3
   },
   "file_extension": ".py",
   "mimetype": "text/x-python",
   "name": "python",
   "nbconvert_exporter": "python",
   "pygments_lexer": "ipython3",
   "version": "3.6.8"
  }
 },
 "nbformat": 4,
 "nbformat_minor": 2
}
