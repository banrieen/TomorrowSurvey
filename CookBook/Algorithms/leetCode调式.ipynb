{
 "cells": [
  {
   "cell_type": "code",
   "execution_count": null,
   "metadata": {},
   "outputs": [],
   "source": [
    "class Solution:\n",
    "    def longestPalindrome(self, s):\n",
    "        \"\"\"\n",
    "        :type s: str\n",
    "        :rtype: str\n",
    "        \"\"\"\n",
    "        hw_list = self.get_huiwen(s)\n",
    "        return hw_list.sort()[-1]\n",
    "    \n",
    "    def get_huiwen(self,strs)：\n",
    "        hw_list = []\n",
    "        left = 0\n",
    "        right = len(strs)-1\n",
    "        while len(strs)-2:\n",
    "            if strs[left] == strs[right]:\n",
    "                return strs\n",
    "            elif strs[left + 1] == strs[right]:\n",
    "                strs = strs[1:]\n",
    "                return strs[1:]\n",
    "            elif strs[left] == strs[right - 1]:\n",
    "                strs = strs[:-1]\n",
    "                return strs[:-1]\n",
    "            else:\n",
    "                self.get_huiwen(strs)\n",
    "\n",
    "if __name__ == \"__main__\":\n",
    "    ns = Solution()\n",
    "    s1 = \"babad\"  # \"bab\",\"aba\" \n",
    "    s2 = \"cbbd\"   # \"bb\"\n",
    "    results = ns.longestPalindrome()\n",
    "    print(\">>>>>>>>>>>>>>>>>>>>>>>>>>>>>>>>> Result: \",results)"
   ]
  }
 ],
 "metadata": {
  "kernelspec": {
   "display_name": "Python 3",
   "language": "python",
   "name": "python3"
  },
  "language_info": {
   "codemirror_mode": {
    "name": "ipython",
    "version": 3
   },
   "file_extension": ".py",
   "mimetype": "text/x-python",
   "name": "python",
   "nbconvert_exporter": "python",
   "pygments_lexer": "ipython3",
   "version": "3.6.8"
  }
 },
 "nbformat": 4,
 "nbformat_minor": 2
}
