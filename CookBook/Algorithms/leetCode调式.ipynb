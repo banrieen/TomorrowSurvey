{
 "cells": [
  {
   "cell_type": "code",
   "execution_count": null,
   "metadata": {},
   "outputs": [],
   "source": [
    "class Solution:\n",
    "    def longestPalindrome(self, s):\n",
    "        \"\"\"\n",
    "        :type s: str\n",
    "        :rtype: str\n",
    "        \"\"\"\n",
    "        hw_list = self.get_huiwen(s)\n",
    "        return hw_list.sort()[-1]\n",
    "    \n",
    "    def get_huiwen(self,strs)：\n",
    "        hw_list = []\n",
    "        left = 0\n",
    "        right = len(strs)-1\n",
    "        while len(strs)-2:\n",
    "            if strs[left] == strs[right]:\n",
    "                return strs\n",
    "            elif strs[left + 1] == strs[right]:\n",
    "                strs = strs[1:]\n",
    "                return strs[1:]\n",
    "            elif strs[left] == strs[right - 1]:\n",
    "                strs = strs[:-1]\n",
    "                return strs[:-1]\n",
    "            else:\n",
    "                self.get_huiwen(strs)\n",
    "\n",
    "if __name__ == \"__main__\":\n",
    "    ns = Solution()\n",
    "    s1 = \"babad\"  # \"bab\",\"aba\" \n",
    "    s2 = \"cbbd\"   # \"bb\"\n",
    "    results = ns.longestPalindrome()\n",
    "    print(\">>>>>>>>>>>>>>>>>>>>>>>>>>>>>>>>> Result: \",results)"
   ]
  },
  {
   "cell_type": "code",
   "execution_count": 4,
   "metadata": {},
   "outputs": [
    {
     "name": "stdout",
     "output_type": "stream",
     "text": [
      "F\n",
      "F\n"
     ]
    }
   ],
   "source": [
    "#coding=utf-8\n",
    " \n",
    "class TreeNode(object):\n",
    "    def __init__(self,data=None,left=None,right=None):\n",
    "        self.data = data\n",
    "        self.left = left\n",
    "        self.right = right\n",
    " \n",
    "    # 这一步是在每次调用某个结点时，自动调用.data的方法\n",
    "    def __str__(self):\n",
    "        return str(self.data)\n",
    " \n",
    "# 方法一\n",
    "A, B, C, D, E, F, G, H, I = [TreeNode(x) for x in 'ABCDEFGHI']\n",
    "A.left, A.right = B, C\n",
    "B.right = D\n",
    "C.left, C.right = E, F\n",
    "E.left = G\n",
    "F.left,F.right = H, I\n",
    "print (C.right)\n",
    " \n",
    "# 方法二\n",
    "A = TreeNode('A','B','C')\n",
    "B = TreeNode('B',None,'D')\n",
    "C = TreeNode('C','E','F')\n",
    "E = TreeNode('E','G',None)\n",
    "F = TreeNode('F','H','I')\n",
    "print (C.right)"
   ]
  },
  {
   "cell_type": "code",
   "execution_count": null,
   "metadata": {},
   "outputs": [],
   "source": []
  }
 ],
 "metadata": {
  "kernelspec": {
   "display_name": "Python 3",
   "language": "python",
   "name": "python3"
  },
  "language_info": {
   "codemirror_mode": {
    "name": "ipython",
    "version": 3
   },
   "file_extension": ".py",
   "mimetype": "text/x-python",
   "name": "python",
   "nbconvert_exporter": "python",
   "pygments_lexer": "ipython3",
   "version": "3.6.8"
  }
 },
 "nbformat": 4,
 "nbformat_minor": 2
}
