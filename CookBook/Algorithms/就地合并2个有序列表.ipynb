{
 "cells": [
  {
   "cell_type": "markdown",
   "metadata": {},
   "source": [
    "## 合并两个有序数组\n",
    "\n",
    "给定两个有序整数数组 nums1 和 nums2，将 nums2 合并到 nums1 中，使得 num1 成为一个有序数组。\n",
    "\n",
    "说明:\n",
    "\n",
    "    初始化 nums1 和 nums2 的元素数量分别为 m 和 n。\n",
    "    你可以假设 nums1 有足够的空间（空间大小大于或等于 m + n）来保存 nums2 中的元素。\n",
    "\n",
    "示例:\n",
    "\n",
    "```\n",
    "输入:\n",
    "nums1 = [1,2,3,0,0,0], m = 3\n",
    "nums2 = [2,5,6],       n = 3\n",
    "\n",
    "输出: [1,2,2,3,5,6]\n",
    "```\n"
   ]
  },
  {
   "cell_type": "code",
   "execution_count": null,
   "metadata": {},
   "outputs": [],
   "source": [
    "\"\"\" 在 nums1 的地址空间合并 nums2 \n",
    ">>> \n",
    "\"\"\"\n",
    "class Solution:\n",
    "    def merge(self, nums1: List[int], m: int, nums2: List[int], n: int) -> None:\n",
    "        \"\"\"\n",
    "        Do not return anything, modify nums1 in-place instead.\n",
    "        使用 归并排序的 merge 过程，nums1 声明为 global ,或者使用 copy  无效；结果判断使用的引用地址\n",
    "        \"\"\"\n",
    "        i,j = 0, 0\n",
    "        temp = []\n",
    "        if m>1 and n<=0:\n",
    "            return nums1\n",
    "        elif m<=0 and n > 1:\n",
    "            for i in range(0,n):\n",
    "                nums1[i] = nums2[i]\n",
    "        else:\n",
    "            while i <= m and j < n:\n",
    "                if nums1[i] <= nums2[j]:\n",
    "                    if nums1[i] == 0 and i >= m:\n",
    "                        nums1[i] = nums2[j]\n",
    "                        j += 1\n",
    "                        m += 1\n",
    "                    i += 1\n",
    "                else:\n",
    "                    temp = nums1[i:m]\n",
    "                    nums1[i] = nums2[j]\n",
    "                    j += 1\n",
    "                    i += 1\n",
    "                    m += 1\n",
    "                    nums1[i:m] = temp\n",
    "            if j < n:\n",
    "                nums1.extend(nums2[j:n])\n",
    "\n",
    "if __name__ == \"__main__\":\n",
    "    import doctest\n",
    "    doctest.testmod(verbose=True)"
   ]
  }
 ],
 "metadata": {
  "kernelspec": {
   "display_name": "Python 3",
   "language": "python",
   "name": "python3"
  },
  "language_info": {
   "codemirror_mode": {
    "name": "ipython",
    "version": 3
   },
   "file_extension": ".py",
   "mimetype": "text/x-python",
   "name": "python",
   "nbconvert_exporter": "python",
   "pygments_lexer": "ipython3",
   "version": "3.6.8"
  }
 },
 "nbformat": 4,
 "nbformat_minor": 2
}
