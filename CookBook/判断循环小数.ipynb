{
 "cells": [
  {
   "cell_type": "markdown",
   "metadata": {},
   "source": [
    "## 给定一组分数，判断其小数是否为循环小数\n",
    "\n",
    "* 如 a/b, a,b都为正整数，4/5=0.8；4/3=1.(3);1/7=0.(142857)"
   ]
  },
  {
   "cell_type": "code",
   "execution_count": 4,
   "metadata": {},
   "outputs": [
    {
     "ename": "IndentationError",
     "evalue": "expected an indented block (<ipython-input-4-a601752c89be>, line 20)",
     "output_type": "error",
     "traceback": [
      "\u001b[0;36m  File \u001b[0;32m\"<ipython-input-4-a601752c89be>\"\u001b[0;36m, line \u001b[0;32m20\u001b[0m\n\u001b[0;31m    RST = RST + str(rd)\u001b[0m\n\u001b[0m    ^\u001b[0m\n\u001b[0;31mIndentationError\u001b[0m\u001b[0;31m:\u001b[0m expected an indented block\n"
     ]
    }
   ],
   "source": [
    "import random\n",
    "RST = \"\"\n",
    "\n",
    "def isRepeatingDecimal(a,b):\n",
    "    global RST\n",
    "    if a and b and (a < b):\n",
    "        pass\n",
    "    else:\n",
    "        return False\n",
    "    if (a * 10) % b == 0:\n",
    "        return 0\n",
    "    else:\n",
    "        rd = str((a * 10) // b)\n",
    "        if RST != 0 and (rd in RST):\n",
    "            if 1 == len(RST):\n",
    "                return 1\n",
    "            else:\n",
    "                \n",
    "                \n",
    "        RST = RST + str(rd)\n",
    "        isRepeatingDecimal(((a * 10) % b),b)\n",
    "        # 限制在100位小数内，避免无限不循环小数出现不可终止的情况\n",
    "        if len(RST) > 100:\n",
    "            return 2\n",
    "    \n",
    "def assertRD():\n",
    "    global RST\n",
    "    a, b = 1,7\n",
    "#     a = random.randint(0,10)\n",
    "#     b = random.randint(1,10)\n",
    "    if 0 == isRepeatingDecimal(a,b):\n",
    "        print(f\"{a} / {b} = 0.{RST} 是整除数\")\n",
    "    elif 2 == isRepeatingDecimal(a,b):\n",
    "        print(f\"{a} / {b} = 0.{RST} 是无限不循环小数\")\n",
    "    else:\n",
    "        print(f\"{a} / {b} = 0.{RST} 是无限循环小数\")\n",
    "\n",
    "assertRD()"
   ]
  },
  {
   "cell_type": "code",
   "execution_count": null,
   "metadata": {},
   "outputs": [],
   "source": [
    "str(int(100/7))"
   ]
  },
  {
   "cell_type": "code",
   "execution_count": null,
   "metadata": {},
   "outputs": [],
   "source": []
  }
 ],
 "metadata": {
  "kernelspec": {
   "display_name": "Python 3",
   "language": "python",
   "name": "python3"
  },
  "language_info": {
   "codemirror_mode": {
    "name": "ipython",
    "version": 3
   },
   "file_extension": ".py",
   "mimetype": "text/x-python",
   "name": "python",
   "nbconvert_exporter": "python",
   "pygments_lexer": "ipython3",
   "version": "3.6.5"
  }
 },
 "nbformat": 4,
 "nbformat_minor": 2
}
