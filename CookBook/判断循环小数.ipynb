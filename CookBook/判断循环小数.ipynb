{
 "cells": [
  {
   "cell_type": "markdown",
   "metadata": {},
   "source": [
    "## 给定一组分数，判断其小数是否为循环小数\n",
    "\n",
    "* 如 a/b, a,b都为正整数，4/5=0.8；4/3=1.(3);1/7=0.(142857)"
   ]
  },
  {
   "cell_type": "code",
   "execution_count": 17,
   "metadata": {},
   "outputs": [
    {
     "name": "stdout",
     "output_type": "stream",
     "text": [
      "1 / 7 = 1.42857142857142864.2857142857142862.8571428571428578.5714285714285715.7142857142857147.142857142857143 是100位内无限循环小数\n"
     ]
    }
   ],
   "source": [
    "import random\n",
    "RD = \"\"\n",
    "\n",
    "def isRepeatingDecimal(a,b):\n",
    "    global RD\n",
    "    if (a * 10) % b == 0:\n",
    "        return 0\n",
    "    else\n",
    "        rd = str((a * 10) / b)\n",
    "        if RD != 0 and rd in RD:\n",
    "            return 1\n",
    "        RD = RD + str(rd)\n",
    "        isRepeatingDecimal(((a * 10) % b),b)\n",
    "    if len(RD) > 100:\n",
    "        return 2\n",
    "    \n",
    "def assertRD():\n",
    "    global RD\n",
    "    a, b = 1,7\n",
    "    RD = \"\"\n",
    "#     a = random.randint(0,10)\n",
    "#     b = random.randint(1,10)\n",
    "    if 0 == isRepeatingDecimal(a,b):\n",
    "        print(f\"{a} / {b} = {RD} 是整除数\")\n",
    "    elif 2 == isRepeatingDecimal(a,b):\n",
    "        print(f\"{a} / {b} = {RD} 是100位内无限不循环小数\")\n",
    "    else:\n",
    "        print(f\"{a} / {b} = {RD} 是100位内无限循环小数\")\n",
    "\n",
    "assertRD()"
   ]
  },
  {
   "cell_type": "code",
   "execution_count": null,
   "metadata": {},
   "outputs": [],
   "source": []
  },
  {
   "cell_type": "code",
   "execution_count": null,
   "metadata": {},
   "outputs": [],
   "source": []
  }
 ],
 "metadata": {
  "kernelspec": {
   "display_name": "Python 3",
   "language": "python",
   "name": "python3"
  },
  "language_info": {
   "codemirror_mode": {
    "name": "ipython",
    "version": 3
   },
   "file_extension": ".py",
   "mimetype": "text/x-python",
   "name": "python",
   "nbconvert_exporter": "python",
   "pygments_lexer": "ipython3",
   "version": "3.6.5"
  }
 },
 "nbformat": 4,
 "nbformat_minor": 2
}
