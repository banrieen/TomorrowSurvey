{
 "cells": [
  {
   "cell_type": "markdown",
   "metadata": {},
   "source": [
    "## 给定一组分数，判断其小数是否为循环小数\n",
    "\n",
    "* 如 a/b, a,b都为正整数，4/5=0.8；4/3=1.(3);1/7=0.(142857)"
   ]
  },
  {
   "cell_type": "code",
   "execution_count": 3,
   "metadata": {},
   "outputs": [
    {
     "name": "stdout",
     "output_type": "stream",
     "text": [
      "1 / 7 = 0.142857 是无限循环小数\n"
     ]
    }
   ],
   "source": [
    "import random\n",
    "RD = \"\"\n",
    "\n",
    "def isRepeatingDecimal(a,b):\n",
    "    global RD\n",
    "    if (a * 10) % b == 0:\n",
    "        return 0\n",
    "    else:\n",
    "        rd = str((a * 10) // b)\n",
    "        if RD != 0 and rd in RD:\n",
    "            return 1\n",
    "        RD = RD + str(rd)\n",
    "        isRepeatingDecimal(((a * 10) % b),b)\n",
    "        # 限制在100位小数内，避免无限不循环小数出现不可终止的情况\n",
    "        if len(RD) > 100:\n",
    "            return 2\n",
    "    \n",
    "def assertRD():\n",
    "    global RD\n",
    "    a, b = 1,7\n",
    "#     a = random.randint(0,10)\n",
    "#     b = random.randint(1,10)\n",
    "    if 0 == isRepeatingDecimal(a,b):\n",
    "        print(f\"{a} / {b} = 0.{RD} 是整除数\")\n",
    "    elif 2 == isRepeatingDecimal(a,b):\n",
    "        print(f\"{a} / {b} = 0.{RD} 是无限不循环小数\")\n",
    "    else:\n",
    "        print(f\"{a} / {b} = 0.{RD} 是无限循环小数\")\n",
    "\n",
    "assertRD()"
   ]
  },
  {
   "cell_type": "code",
   "execution_count": null,
   "metadata": {},
   "outputs": [],
   "source": [
    "str(int(100/7))"
   ]
  },
  {
   "cell_type": "code",
   "execution_count": null,
   "metadata": {},
   "outputs": [],
   "source": []
  }
 ],
 "metadata": {
  "kernelspec": {
   "display_name": "Python 3",
   "language": "python",
   "name": "python3"
  },
  "language_info": {
   "codemirror_mode": {
    "name": "ipython",
    "version": 3
   },
   "file_extension": ".py",
   "mimetype": "text/x-python",
   "name": "python",
   "nbconvert_exporter": "python",
   "pygments_lexer": "ipython3",
   "version": "3.6.5"
  }
 },
 "nbformat": 4,
 "nbformat_minor": 2
}
