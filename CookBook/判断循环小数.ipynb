{
 "cells": [
  {
   "cell_type": "markdown",
   "metadata": {},
   "source": [
    "## 给定一组分数，判断其小数是否为循环小数\n",
    "\n",
    "* 如 a/b, a,b都为正整数，4/5=0.8；4/3=1.(3);1/7=0.(142857)"
   ]
  },
  {
   "cell_type": "code",
   "execution_count": null,
   "metadata": {},
   "outputs": [],
   "source": [
    "RD = \"\"\n",
    "\n",
    "def isRepeatingDecimal(a,b):\n",
    "    if (a * 10) % b == 0:\n",
    "        return False\n",
    "    elif (a * 10) % b < b:\n",
    "        rd = (a * 10) / b\n",
    "        if RD != 0 and rd in RD:\n",
    "            return True\n",
    "        RD = RD + str(rd)\n",
    "        isRepeatingDecimal(((a * 10) % b),b)\n",
    "    if len(RD) > 100:\n",
    "        return False\n",
    "    \n",
    "def assertR\n",
    "        "
   ]
  }
 ],
 "metadata": {
  "kernelspec": {
   "display_name": "Python 3",
   "language": "python",
   "name": "python3"
  },
  "language_info": {
   "codemirror_mode": {
    "name": "ipython",
    "version": 3
   },
   "file_extension": ".py",
   "mimetype": "text/x-python",
   "name": "python",
   "nbconvert_exporter": "python",
   "pygments_lexer": "ipython3",
   "version": "3.6.5"
  }
 },
 "nbformat": 4,
 "nbformat_minor": 2
}
