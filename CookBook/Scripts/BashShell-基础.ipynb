{
 "cells": [
  {
   "cell_type": "markdown",
   "metadata": {},
   "source": [
    "## Linux shell 基本信息"
   ]
  },
  {
   "cell_type": "code",
   "execution_count": 2,
   "metadata": {
    "scrolled": true
   },
   "outputs": [
    {
     "name": "stdout",
     "output_type": "stream",
     "text": [
      "/bin/bash\n",
      "exit\n",
      "Restarting Bash"
     ]
    }
   ],
   "source": [
    "echo $SHELL\n",
    "exit"
   ]
  },
  {
   "cell_type": "markdown",
   "metadata": {},
   "source": [
    "## 执行 shell 脚本"
   ]
  },
  {
   "cell_type": "code",
   "execution_count": null,
   "metadata": {},
   "outputs": [],
   "source": [
    "# 1. 将 shell 脚本设置为可执行\n",
    "sudo chmod +x [脚本名称]\n",
    "# 2. 指定 shell 执行脚本\n",
    "sh/bash/pdksh/Tcsh [脚本名称]\n",
    "# 3. 命令替换\n",
    "str = 'Current directory is: '`pwd`\n",
    "echo $str"
   ]
  },
  {
   "cell_type": "markdown",
   "metadata": {},
   "source": [
    "## Shell 脚本示例"
   ]
  },
  {
   "cell_type": "code",
   "execution_count": null,
   "metadata": {},
   "outputs": [],
   "source": [
    "#！/bin/bash\n",
    "# This is the example script that say 'Hello World' For you.\n",
    "# Date:\n",
    "# Editor:\n",
    "\n",
    "echo \"Hello World !\""
   ]
  },
  {
   "cell_type": "markdown",
   "metadata": {},
   "source": [
    "## Shell 程序设计基础\n",
    "### 输入输出重定向"
   ]
  },
  {
   "cell_type": "code",
   "execution_count": 7,
   "metadata": {},
   "outputs": [
    {
     "name": "stdout",
     "output_type": "stream",
     "text": [
      "VM_0_8_suse\n"
     ]
    }
   ],
   "source": [
    "hostname"
   ]
  }
 ],
 "metadata": {
  "kernelspec": {
   "display_name": "Bash",
   "language": "bash",
   "name": "bash"
  },
  "language_info": {
   "codemirror_mode": "shell",
   "file_extension": ".sh",
   "mimetype": "text/x-sh",
   "name": "bash"
  }
 },
 "nbformat": 4,
 "nbformat_minor": 2
}
