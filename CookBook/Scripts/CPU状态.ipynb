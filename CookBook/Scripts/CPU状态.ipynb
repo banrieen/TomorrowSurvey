{
 "cells": [
  {
   "cell_type": "code",
   "execution_count": 1,
   "metadata": {},
   "outputs": [
    {
     "name": "stdout",
     "output_type": "stream",
     "text": [
      "Sat Aug 31 18:50:32 CST 2019\n",
      "TERM environment variable not set.\n",
      "Sat Aug 31 18:50:32 CST 2019\n",
      "TERM environment variable not set.\n",
      "Sat Aug 31 18:50:32 CST 2019\n",
      "TERM environment variable not set.\n",
      "Sat Aug 31 18:50:33 CST 2019\n",
      "TERM environment variable not set.\n",
      "Sat Aug 31 18:50:33 CST 2019\n",
      "TERM environment variable not set.\n",
      "Sat Aug 31 18:50:33 CST 2019\n",
      "TERM environment variable not set.\n",
      "Sat Aug 31 18:50:33 CST 2019\n",
      "TERM environment variable not set.\n",
      "Sat Aug 31 18:50:33 CST 2019\n",
      "TERM environment variable not set.\n",
      "Sat Aug 31 18:50:33 CST 2019\n",
      "TERM environment variable not set.\n",
      "Sat Aug 31 18:50:33 CST 2019\n",
      "TERM environment variable not set.\n",
      "Sat Aug 31 18:50:33 CST 2019\n",
      "TERM environment variable not set.\n",
      "Sat Aug 31 18:50:33 CST 2019\n",
      "TERM environment variable not set.\n",
      "Sat Aug 31 18:50:34 CST 2019\n",
      "TERM environment variable not set.\n",
      "Sat Aug 31 18:50:34 CST 2019\n",
      "TERM environment variable not set.\n",
      "Sat Aug 31 18:50:34 CST 2019\n",
      "TERM environment variable not set.\n",
      "Sat Aug 31 18:50:34 CST 2019\n",
      "TERM environment variable not set.\n",
      "Sat Aug 31 18:50:34 CST 2019\n",
      "TERM environment variable not set.\n",
      "Sat Aug 31 18:50:34 CST 2019\n",
      "TERM environment variable not set.\n",
      "Sat Aug 31 18:50:34 CST 2019\n",
      "TERM environment variable not set.\n",
      "Sat Aug 31 18:50:34 CST 2019\n",
      "TERM environment variable not set.\n",
      "Sat Aug 31 18:50:35 CST 2019\n",
      "TERM environment variable not set.\n",
      "Sat Aug 31 18:50:35 CST 2019\n",
      "TERM environment variable not set.\n",
      "\n",
      "\n"
     ]
    }
   ],
   "source": [
    "period=100000\n",
    "n=$((6*1000000/$period))\n",
    "i=0\n",
    "{\n",
    "while [ $i -lt $n ]\n",
    "do\n",
    "d=$(date)\n",
    "echo $d 1>&2 \n",
    "top -n 1 |awk -v date=\"$d\" '/Xorg/{print $10\";\"$13\" \"date}'\n",
    "i=$(($i+1))\n",
    "usleep $period\n",
    "done \n",
    "} | tee >(awk -F\\; '{if($1>=max){max=$1;proname=$2}}END{print max\";\"proname}')"
   ]
  },
  {
   "cell_type": "code",
   "execution_count": null,
   "metadata": {},
   "outputs": [],
   "source": []
  }
 ],
 "metadata": {
  "kernelspec": {
   "display_name": "Bash",
   "language": "bash",
   "name": "bash"
  },
  "language_info": {
   "codemirror_mode": "shell",
   "file_extension": ".sh",
   "mimetype": "text/x-sh",
   "name": "bash"
  }
 },
 "nbformat": 4,
 "nbformat_minor": 2
}
