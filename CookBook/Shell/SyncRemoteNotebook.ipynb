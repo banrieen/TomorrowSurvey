{
 "cells": [
  {
   "cell_type": "markdown",
   "metadata": {},
   "source": [
    "## 在 notebook 所在服务器上同步终端的的提交\n",
    "**默认情况下 notebook post_save_hook 会在 5 min 左右自动同步；否则可以在此远端执行 git sync **"
   ]
  },
  {
   "cell_type": "code",
   "execution_count": 3,
   "metadata": {},
   "outputs": [
    {
     "name": "stdout",
     "output_type": "stream",
     "text": [
      "On branch Algorithms\n",
      "nothing to commit, working tree clean\n",
      "* Algorithms\n",
      "remote: Enumerating objects: 121, done.        \n",
      "remote: Counting objects: 100% (82/82), done.        \n",
      "remote: Compressing objects: 100% (31/31), done.        \n",
      "remote: Total 56 (delta 22), reused 56 (delta 22), pack-reused 0        \n",
      "Unpacking objects: 100% (56/56), done.\n",
      "From github.com:banrieen/notebook\n",
      " * branch            Algorithms -> FETCH_HEAD\n",
      "   782f8c4..255973f  Algorithms -> origin/Algorithms\n",
      "Updating 782f8c4..255973f\n",
      "Fast-forward\n",
      " .../project.pbxproj                                |  18 +++++++++++++\n",
      " .../xcshareddata/WorkspaceSettings.xcsettings      |   5 ++++\n",
      " .../UserInterfaceState.xcuserstate                 | Bin 22138 -> 38022 bytes\n",
      " .../WorkspaceSettings.xcsettings                   |  18 +++++++++++++\n",
      " .../bitree.c                                       |   2 +-\n",
      " .../bitree.h                                       |  18 ++++++-------\n",
      " .../charSet.cpp                                    |  19 ++++++++++++++\n",
      " .../charSet.hpp                                    |  14 +++++++++++\n",
      " .../FundamentalsOfProgrammingAndAlgorithms/fac.cpp |  22 ++++++++++++++++\n",
      " .../FundamentalsOfProgrammingAndAlgorithms/fac.hpp |  15 +++++++++++\n",
      " .../main.cpp                                       |  28 +++++++++++++++++++--\n",
      " .../stringChar.h                                   |  14 +++++++++++\n",
      " .../string_char.c                                  |  21 ++++++++++++++++\n",
      " 13 files changed, 182 insertions(+), 12 deletions(-)\n",
      " create mode 100644 XcodeCpp/FundamentalsOfProgrammingAndAlgorithms/FundamentalsOfProgrammingAndAlgorithms.xcodeproj/project.xcworkspace/xcshareddata/WorkspaceSettings.xcsettings\n",
      " create mode 100644 XcodeCpp/FundamentalsOfProgrammingAndAlgorithms/FundamentalsOfProgrammingAndAlgorithms.xcodeproj/project.xcworkspace/xcuserdata/lizhen.xcuserdatad/WorkspaceSettings.xcsettings\n",
      " create mode 100644 XcodeCpp/FundamentalsOfProgrammingAndAlgorithms/FundamentalsOfProgrammingAndAlgorithms/charSet.cpp\n",
      " create mode 100644 XcodeCpp/FundamentalsOfProgrammingAndAlgorithms/FundamentalsOfProgrammingAndAlgorithms/charSet.hpp\n",
      " create mode 100644 XcodeCpp/FundamentalsOfProgrammingAndAlgorithms/FundamentalsOfProgrammingAndAlgorithms/fac.cpp\n",
      " create mode 100644 XcodeCpp/FundamentalsOfProgrammingAndAlgorithms/FundamentalsOfProgrammingAndAlgorithms/fac.hpp\n",
      " create mode 100644 XcodeCpp/FundamentalsOfProgrammingAndAlgorithms/FundamentalsOfProgrammingAndAlgorithms/stringChar.h\n",
      " create mode 100644 XcodeCpp/FundamentalsOfProgrammingAndAlgorithms/FundamentalsOfProgrammingAndAlgorithms/string_char.c\n"
     ]
    }
   ],
   "source": [
    "cd /home/notebook\n",
    "git status\n",
    "git branch\n",
    "git pull origin Algorithms\n",
    "# ls -l "
   ]
  },
  {
   "cell_type": "code",
   "execution_count": null,
   "metadata": {},
   "outputs": [],
   "source": []
  }
 ],
 "metadata": {
  "kernelspec": {
   "display_name": "Bash",
   "language": "bash",
   "name": "bash"
  },
  "language_info": {
   "codemirror_mode": "shell",
   "file_extension": ".sh",
   "mimetype": "text/x-sh",
   "name": "bash"
  }
 },
 "nbformat": 4,
 "nbformat_minor": 2
}
