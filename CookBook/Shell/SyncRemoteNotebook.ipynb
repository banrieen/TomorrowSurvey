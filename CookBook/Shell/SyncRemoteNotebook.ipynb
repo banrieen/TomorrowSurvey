{
 "cells": [
  {
   "cell_type": "markdown",
   "metadata": {},
   "source": [
    "## 在 notebook 所在服务器上同步终端的的提交\n",
    "**默认情况下 notebook post_save_hook 会在 5 min 左右自动同步；否则可以在此远端执行 git sync **"
   ]
  },
  {
   "cell_type": "code",
   "execution_count": 1,
   "metadata": {},
   "outputs": [
    {
     "name": "stdout",
     "output_type": "stream",
     "text": [
      "On branch Algorithms\n",
      "Changes not staged for commit:\n",
      "  (use \"git add/rm <file>...\" to update what will be committed)\n",
      "  (use \"git checkout -- <file>...\" to discard changes in working directory)\n",
      "\n",
      "\tdeleted:    Configuration/configDemo.py\n",
      "\tdeleted:    Configuration/yamlConfig.ipynb\n",
      "\tdeleted:    Configuration/yamlDemo.py\n",
      "\tdeleted:    Draw/AlgorithmsGif/demo.css\n",
      "\tdeleted:    Draw/AlgorithmsGif/demo.js\n",
      "\tdeleted:    Draw/AlgorithmsGif/sort.html\n",
      "\tdeleted:    Draw/Untitled.ipynb\n",
      "\tdeleted:    Draw/__init__.py\n",
      "\tdeleted:    Draw/sin.py\n",
      "\tdeleted:    Draw/tkinter.py\n",
      "\tdeleted:    Draw/turtleDemo.py\n",
      "\tdeleted:    Draw/动画.mm\n",
      "\tdeleted:    MicrosoftOffice/VBA/Untitled.ipynb\n",
      "\tdeleted:    Shell/SyncRemoteNotebook.ipynb\n",
      "\tdeleted:    Shell/bashDemo.sh\n",
      "\tdeleted:    Shell/linux_shell用法.rst\n",
      "\tdeleted:    Shell/powershellDemo.ps1\n",
      "\n",
      "Untracked files:\n",
      "  (use \"git add <file>...\" to include in what will be committed)\n",
      "\n",
      "\tCookBook/ConfExample/\n",
      "\tCookBook/Shell/\n",
      "\tDrawPicturesVideo/AlgorithmsGif/\n",
      "\tDrawPicturesVideo/Untitled.ipynb\n",
      "\tDrawPicturesVideo/sin.py\n",
      "\tDrawPicturesVideo/tkinter.py\n",
      "\tDrawPicturesVideo/turtleDemo.py\n",
      "\tDrawPicturesVideo/动画.mm\n",
      "\n",
      "no changes added to commit (use \"git add\" and/or \"git commit -a\")\n",
      "* Algorithms\n",
      "From github.com:banrieen/notebook\n",
      " * branch            Algorithms -> FETCH_HEAD\n",
      "Already up to date.\n"
     ]
    }
   ],
   "source": [
    "cd /home/notebook\n",
    "git status\n",
    "git branch\n",
    "git pull origin Algorithms\n",
    "# ls -l "
   ]
  },
  {
   "cell_type": "code",
   "execution_count": null,
   "metadata": {},
   "outputs": [],
   "source": []
  }
 ],
 "metadata": {
  "kernelspec": {
   "display_name": "Bash",
   "language": "bash",
   "name": "bash"
  },
  "language_info": {
   "codemirror_mode": "shell",
   "file_extension": ".sh",
   "mimetype": "text/x-sh",
   "name": "bash"
  }
 },
 "nbformat": 4,
 "nbformat_minor": 2
}
