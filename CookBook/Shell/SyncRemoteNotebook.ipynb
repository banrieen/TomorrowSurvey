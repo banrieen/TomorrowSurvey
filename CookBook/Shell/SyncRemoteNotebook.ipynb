{
 "cells": [
  {
   "cell_type": "markdown",
   "metadata": {},
   "source": [
    "## 在 notebook 所在服务器上同步终端的的提交\n",
    "**默认情况下 notebook post_save_hook 会在 5 min 左右自动同步；否则可以在此远端执行 git sync **"
   ]
  },
  {
   "cell_type": "code",
   "execution_count": null,
   "metadata": {},
   "outputs": [
    {
     "name": "stdout",
     "output_type": "stream",
     "text": [
      "On branch Algorithms\n",
      "Changes not staged for commit:\n",
      "  (use \"git add/rm <file>...\" to update what will be committed)\n",
      "  (use \"git checkout -- <file>...\" to discard changes in working directory)\n",
      "\n",
      "\tdeleted:    MicrosoftOffice/VBA/Untitled.ipynb\n",
      "\tdeleted:    MicrosoftOffice/VBA/untitled.txt\n",
      "\tdeleted:    MicrosoftOffice/VBA/将一个工作表根据条件拆分成多个工作簿或工作表.cls\n",
      "\n",
      "Untracked files:\n",
      "  (use \"git add <file>...\" to include in what will be committed)\n",
      "\n",
      "\tMicrosoftOffice/VBA/多行对账.xls\n",
      "\tMicrosoftOffice/VBA/多行对账utf8.xls\n",
      "\tMicrosoftOffice/VBA/根据表标题提取列.xls\n",
      "\n",
      "no changes added to commit (use \"git add\" and/or \"git commit -a\")\n",
      "* Algorithms\n",
      "From github.com:banrieen/notebook\n"
     ]
    }
   ],
   "source": [
    "cd /home/notebook\n",
    "git status\n",
    "git branch\n",
    "git pull origin Algorithms\n",
    "# ls -l "
   ]
  },
  {
   "cell_type": "code",
   "execution_count": null,
   "metadata": {},
   "outputs": [],
   "source": [
    "cd /home/notebook\n",
    "git status\n",
    "git branch\n",
    "git pull origin Algorithms\n",
    "# ls -l "
   ]
  }
 ],
 "metadata": {
  "kernelspec": {
   "display_name": "Bash",
   "language": "bash",
   "name": "bash"
  },
  "language_info": {
   "codemirror_mode": "shell",
   "file_extension": ".sh",
   "mimetype": "text/x-sh",
   "name": "bash"
  }
 },
 "nbformat": 4,
 "nbformat_minor": 2
}
