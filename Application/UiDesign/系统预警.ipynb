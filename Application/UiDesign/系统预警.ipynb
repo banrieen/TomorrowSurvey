{
 "cells": [
  {
   "cell_type": "markdown",
   "metadata": {},
   "source": [
    "## 系统质量预警模型\n",
    "\n",
    "传统，云平台，大数据，AI，物联网\n",
    "\n",
    "三维坐标：x:时间轴(阶段)，y：数量，z：风险（类型：使用颜色标记）\n",
    "\n",
    "个人职业演讲：点线面\n",
    "\n",
    "点：个人属性\n",
    "线：职业履历\n",
    "面：项目成就\n",
    "\n",
    "体现技能，资源规划能力，团队领导能力。\n",
    "远见卓识的专注力。"
   ]
  }
 ],
 "metadata": {
  "kernelspec": {
   "display_name": "Javascript (Node.js)",
   "language": "javascript",
   "name": "javascript"
  },
  "language_info": {
   "file_extension": ".js",
   "mimetype": "application/javascript",
   "name": "javascript",
   "version": "10.16.3"
  }
 },
 "nbformat": 4,
 "nbformat_minor": 2
}
