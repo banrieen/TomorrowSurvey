{
 "cells": [
  {
   "cell_type": "markdown",
   "metadata": {},
   "source": [
    "## Django 移除 App\n",
    "\n",
    "\n",
    "2. 在 INSTALLED_APPS 中移除 app 模块\n",
    "3. 删除相关的 contentTypes\n",
    "4. 删除本地 app 目录"
   ]
  },
  {
   "cell_type": "code",
   "execution_count": null,
   "metadata": {},
   "outputs": [],
   "source": [
    "1. 清理 model，删除相关数据库表\n",
    "\n",
    "* Django < 1.7 有一个便捷的终端命令：**sqlclear**\n",
    "```\n",
    "./manage.py sqlclear my_app_name\n",
    "```\n",
    "* Django 1.7 及 , use ./manage.py migrate my_app_name zero (see the migrate docs), which runs the database cleaning automatically."
   ]
  }
 ],
 "metadata": {
  "kernelspec": {
   "display_name": "Python 3",
   "language": "python",
   "name": "python3"
  },
  "language_info": {
   "codemirror_mode": {
    "name": "ipython",
    "version": 3
   },
   "file_extension": ".py",
   "mimetype": "text/x-python",
   "name": "python",
   "nbconvert_exporter": "python",
   "pygments_lexer": "ipython3",
   "version": "3.6.8"
  }
 },
 "nbformat": 4,
 "nbformat_minor": 2
}
