{
 "cells": [
  {
   "cell_type": "markdown",
   "metadata": {},
   "source": [
    "## Django 移除 App\n",
    "\n",
    "\n",
    "\n",
    "3. 删除相关的 contentTypes\n",
    "4. 删除本地 app 目录"
   ]
  },
  {
   "cell_type": "code",
   "execution_count": null,
   "metadata": {},
   "outputs": [],
   "source": [
    "1. 清理 model，删除相关数据库表\n",
    "\n",
    "* Django < 1.7 有一个便捷的终端命令：**sqlclear**，参考[sqlclear docs](https://docs.djangoproject.com/en/dev/ref/django-admin/?from=olddocs#sqlclear-appname-appname)\n",
    "\n",
    "```\n",
    "./manage.py sqlclear my_app_name\n",
    "```\n",
    "* Django 1.7 及以上参考[]()：:\n",
    "    \n",
    "    ./manage.py migrate my_app_name zero # (see the migrate docs), which runs the database cleaning automatically."
   ]
  },
  {
   "cell_type": "code",
   "execution_count": null,
   "metadata": {},
   "outputs": [],
   "source": [
    "2. INSTALLED_APPS 中移除 app 模块\n",
    "\n",
    "```\n",
    "# Application definition\n",
    "\n",
    "INSTALLED_APPS = [\n",
    "    'blog.apps.BlogConfig',\n",
    "    'django.contrib.admin',\n",
    "    'django.contrib.auth',\n",
    "    'django.contrib.contenttypes',\n",
    "    'django.contrib.sessions',\n",
    "    'django.contrib.messages',\n",
    "    'django.contrib.staticfiles',\n",
    "    'rest_framework',\n",
    "    'deleted_app', # 直接移除\n",
    "]\n",
    "```"
   ]
  },
  {
   "cell_type": "code",
   "execution_count": null,
   "metadata": {},
   "outputs": [],
   "source": [
    "3. 删除相关的 contentTypes\n",
    "\n",
    "```\n",
    "from django.contrib.contenttypes.models import ContentType\n",
    "for c in ContentType.objects.all():\n",
    "    if not c.model_class():\n",
    "        print \"deleting %s\"%c\n",
    "        c.delete()\n",
    "        \n",
    "```"
   ]
  },
  {
   "cell_type": "code",
   "execution_count": null,
   "metadata": {},
   "outputs": [],
   "source": [
    "4. 删除本地 app 目录，多媒体文件，临时缓存等\n"
   ]
  }
 ],
 "metadata": {
  "kernelspec": {
   "display_name": "Python 3",
   "language": "python",
   "name": "python3"
  },
  "language_info": {
   "codemirror_mode": {
    "name": "ipython",
    "version": 3
   },
   "file_extension": ".py",
   "mimetype": "text/x-python",
   "name": "python",
   "nbconvert_exporter": "python",
   "pygments_lexer": "ipython3",
   "version": "3.6.8"
  }
 },
 "nbformat": 4,
 "nbformat_minor": 2
}
