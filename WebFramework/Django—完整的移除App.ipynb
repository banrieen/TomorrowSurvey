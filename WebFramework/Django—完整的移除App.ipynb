{
 "cells": [
  {
   "cell_type": "markdown",
   "metadata": {},
   "source": [
    "## Django 移除 App\n",
    "\n"
   ]
  },
  {
   "cell_type": "markdown",
   "metadata": {},
   "source": [
    "1. 清理 model，删除相关数据库表\n",
    "\n",
    "\n",
    "* Django < 1.7 有一个便捷的终端命令：**sqlclear**，参考 [sqlclear docs](https://docs.djangoproject.com/en/dev/ref/django-admin/?from=olddocs#sqlclear-appname-appname)\n",
    "\n",
    "```\n",
    "./manage.py sqlclear my_app_name\n",
    "```\n",
    "\n",
    "* Django 1.7 及以上参考 [migrate](https://docs.djangoproject.com/en/2.1/ref/django-admin/#migrate)\n",
    "\n",
    "```\n",
    "    ./manage.py migrate my_app_name zero \n",
    "```    \n",
    "2. INSTALLED_APPS 中移除 app 模块\n",
    "\n",
    "```\n",
    "# Application definition\n",
    "\n",
    "INSTALLED_APPS = [\n",
    "    'blog.apps.BlogConfig',\n",
    "    'django.contrib.admin',\n",
    "    'django.contrib.auth',\n",
    "    'django.contrib.contenttypes',\n",
    "    'django.contrib.sessions',\n",
    "    'django.contrib.messages',\n",
    "    'django.contrib.staticfiles',\n",
    "    'rest_framework',\n",
    "    'deleted_app', # 直接移除\n",
    "]\n",
    "```\n",
    "\n",
    "3. 清除相关 url\n",
    "\n",
    "4. 删除相关的 contentTypes\n",
    "\n",
    "\n",
    "* 在 shell 中删除\n",
    "\n",
    "```\n",
    "python manage.py shell\n",
    ">>> from django.contrib.contenttypes.models import ContentType\n",
    ">>> ContentType.objects.filter(app_label='customers').delete()\n",
    "```\n",
    "\n",
    "* 脚本删除\n",
    "\n",
    "```\n",
    "from django.contrib.contenttypes.models import ContentType\n",
    "for c in ContentType.objects.all():\n",
    "    if not c.model_class():\n",
    "        print \"deleting %s\"%c\n",
    "        c.delete()\n",
    "        \n",
    "```\n",
    "5. 删除本地 app 目录，多媒体文件，临时缓存等\n",
    "\n",
    "**参考链接：**\n",
    "\n",
    "1. [Removing a Django App](https://mherman.org/blog/removing-a-django-app/#manually)\n",
    "2. [Django: How to completely uninstall a Django app?](https://stackoverflow.com/questions/3329773/django-how-to-completely-uninstall-a-django-app)"
   ]
  }
 ],
 "metadata": {
  "kernelspec": {
   "display_name": "Python 3",
   "language": "python",
   "name": "python3"
  },
  "language_info": {
   "codemirror_mode": {
    "name": "ipython",
    "version": 3
   },
   "file_extension": ".py",
   "mimetype": "text/x-python",
   "name": "python",
   "nbconvert_exporter": "python",
   "pygments_lexer": "ipython3",
   "version": "3.6.8"
  }
 },
 "nbformat": 4,
 "nbformat_minor": 2
}
